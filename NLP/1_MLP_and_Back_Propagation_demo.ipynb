{
  "nbformat": 4,
  "nbformat_minor": 0,
  "metadata": {
    "kernelspec": {
      "display_name": "Python 3",
      "language": "python",
      "name": "python3"
    },
    "language_info": {
      "codemirror_mode": {
        "name": "ipython",
        "version": 3
      },
      "file_extension": ".py",
      "mimetype": "text/x-python",
      "name": "python",
      "nbconvert_exporter": "python",
      "pygments_lexer": "ipython3",
      "version": "3.6.1"
    },
    "colab": {
      "name": "1-MLP and Back-Propagation demo.ipynb",
      "private_outputs": true,
      "provenance": []
    },
    "accelerator": "GPU"
  },
  "cells": [
    {
      "cell_type": "markdown",
      "metadata": {
        "id": "Shkr2rUm-L6f"
      },
      "source": [
        "# Basics of MLP and Backpropagation on MNIST dataset\n",
        "\n",
        "In this tutorial we will understand how to implement a Multilayer perceptron architecture with one hidden layer. This tutorial has two parts: (a) Implementing Back-propagation from scratch (b) Using the in-built 'Autograd' module to train the MLP network.\n",
        "\n",
        "To make data loading simple, we would use the torchvision package created as part of PyTorch which has data loaders for standard datasets such as ImageNet, CIFAR10, MNIST."
      ]
    },
    {
      "cell_type": "markdown",
      "metadata": {
        "id": "tRJGtSkW-L6l"
      },
      "source": [
        "## Import all the required packages"
      ]
    },
    {
      "cell_type": "code",
      "metadata": {
        "id": "0-TqE5RP-L6m"
      },
      "source": [
        "import torch\n",
        "import torch.nn as nn\n",
        "import torch.nn.functional as F\n",
        "import torch.optim as optim\n",
        "from torchvision import datasets, transforms\n",
        "import numpy as np\n",
        "print(\"Importing done!\")"
      ],
      "execution_count": null,
      "outputs": []
    },
    {
      "cell_type": "markdown",
      "metadata": {
        "id": "_W3c6452-L6q"
      },
      "source": [
        "## Initialize the variables\n"
      ]
    },
    {
      "cell_type": "code",
      "metadata": {
        "collapsed": true,
        "id": "7ghozshQ-L6r"
      },
      "source": [
        "batch_size = 32 # Batch size\n",
        "input_dim = 784 # Input dimension (For MNIST dataset each image is of size 28 x 28 = 784)\n",
        "num_of_hidden_nodes = 100 # number of hidden nodes in hidden layer\n",
        "output_dim = 10 # Number of output nodes = no of classes in th dataset. In this case it is 10\n",
        "\n",
        "learning_rate = 0.1\n",
        "num_epochs = 5"
      ],
      "execution_count": null,
      "outputs": []
    },
    {
      "cell_type": "code",
      "metadata": {
        "id": "p1k7i1GFCi5f"
      },
      "source": [
        "a = 'hello'\n",
        "b = 'World'\n",
        "a + b"
      ],
      "execution_count": null,
      "outputs": []
    },
    {
      "cell_type": "markdown",
      "metadata": {
        "id": "0gZs5nYX-L6s"
      },
      "source": [
        "## Load the MNIST data. \n",
        "For convenience we have already downloaded the MNIST dataset and saved in the '../../data' folder. So, the argument download is set to 'False'. We then whiten the dataset."
      ]
    },
    {
      "cell_type": "code",
      "metadata": {
        "collapsed": true,
        "id": "uhwW1yIe-L6t"
      },
      "source": [
        "train_loader = torch.utils.data.DataLoader(datasets.MNIST('.', train=True, download=True,\n",
        "                                                          transform=transforms.Compose([\n",
        "                                                              transforms.ToTensor(),\n",
        "                                                              transforms.Normalize((0.1307,), (0.3081,))])),\n",
        "                                           batch_size= batch_size, shuffle=True)"
      ],
      "execution_count": null,
      "outputs": []
    },
    {
      "cell_type": "markdown",
      "metadata": {
        "id": "k8RXRZT3-L6v"
      },
      "source": [
        "## Sigmoid activation function and its derivative\n",
        "\n",
        "$\\sigma(x)=\\frac{1}{1+e^{-x}}$\n",
        "\n",
        "$\\sigma^{'}(x) = \\sigma(x)(1-\\sigma(x))$"
      ]
    },
    {
      "cell_type": "code",
      "metadata": {
        "collapsed": true,
        "id": "UA7Augsp-L6w"
      },
      "source": [
        "def sigmoid(x):\n",
        "    return 1/torch.exp(x.mul(-1)).add(1)\n",
        "    \n",
        "\n",
        "def sigmoid_diff(x):\n",
        "    return torch.mul(sigmoid(x), sigmoid(x).mul(-1).add(1))\n",
        "\n",
        "tensor = torch.FloatTensor([[1,2,3],[1,2,3]])\n",
        "print(sigmoid(tensor)) # You can use it for debugging\n",
        "torch.sigmoid(tensor)"
      ],
      "execution_count": null,
      "outputs": []
    },
    {
      "cell_type": "markdown",
      "metadata": {
        "id": "uR39SI24-L6y"
      },
      "source": [
        "## Initialize the weight matrices with some random values\n",
        "\n",
        "$W_1 \\in \\mathbb{R}^{784 x 100}$\n",
        "\n",
        "$W_2 \\in \\mathbb{R}^{100 x 10}$"
      ]
    },
    {
      "cell_type": "code",
      "metadata": {
        "collapsed": true,
        "id": "H3PP_9AY-L6z"
      },
      "source": [
        "# Initiliaze the weights\n",
        "W_1 = torch.randn(input_dim, num_of_hidden_nodes).type(torch.FloatTensor) # Weights between input and hidden layer\n",
        "W_2 = torch.randn(num_of_hidden_nodes, output_dim).type(torch.FloatTensor) # Weights between hidden layer and output"
      ],
      "execution_count": null,
      "outputs": []
    },
    {
      "cell_type": "markdown",
      "metadata": {
        "id": "9kolvOXX-L60"
      },
      "source": [
        "## The training loop with manual backpropagation\n",
        "\n",
        "In each epoch, we will have several batches of data. We take each of the batches and do the forward pass. Then based on the error we back-propagate.\n",
        "\n",
        "![alt text](images/mlp.png \"MLP with 3-layers\")\n",
        "\n",
        "\n",
        "Assume, batch_size = 1, matrix multiplication $*$ and element-wise multiplication $.$\n",
        "\n",
        "### Mean-Squared Loss Function:\n",
        "\n",
        "$L = 0.5*(output - true\\_output)^2$\n",
        "\n",
        "### Forward Pass:\n",
        "\n",
        "$Z = \\sigma(W_1^{T}X)$           [$\\mathbb{R}^{1 x 100}$]\n",
        "\n",
        "$output = \\sigma(W_2^{T}Z)$       [$\\mathbb{R}^{1 x 10}$]\n",
        "\n",
        "### Backward Pass:\n",
        "\n",
        "Derivative of loss: $diff = (output - true\\_output)$   [$\\mathbb{R}^{1 x 10}$]\n",
        "\n",
        "$\\frac{\\partial L}{\\partial W_2} = Z^{T}*(diff.\\sigma^{'}(output))$    [$\\mathbb{R}^{100 x 10}$]\n",
        "\n",
        "$\\frac{\\partial L}{\\partial W_1} = X^{T} *((diff.\\sigma^{'}(output))*W_2^{T}).\\sigma^{'}(Z)$ [$\\mathbb{R}^{784 x 100}$]\n",
        "\n",
        "### Parameter Update:\n",
        "\n",
        "$W_1 = W_1 - \\eta \\frac{\\partial L}{\\partial W_1}$\n",
        "\n",
        "$W_2 = W_2 - \\eta \\frac{\\partial L}{\\partial W_2}$"
      ]
    },
    {
      "cell_type": "code",
      "metadata": {
        "id": "CMFB_9ED-L61"
      },
      "source": [
        "for epoch in range(0, num_epochs):\n",
        "    correct = 0\n",
        "    loss = 0\n",
        "    y_batch_onehot = torch.FloatTensor(batch_size, output_dim)\n",
        "    for batch_idx, (x_batch, y_batch) in enumerate(train_loader):\n",
        "        # Forward Pass\n",
        "        x_batch = x_batch.view(-1, 784)\n",
        "        hidden_state_output = sigmoid(torch.mm(x_batch, W_1))\n",
        "        output = sigmoid(torch.mm(hidden_state_output, W_2))\n",
        "        \n",
        "        # Convert the labels to one hot encoded format\n",
        "        y_batch_onehot.zero_()\n",
        "        y_batch_onehot.scatter_(1, y_batch[:, None], 1)\n",
        "        \n",
        "        # Loss (Mean-Squared error)     \n",
        "        loss += (output - y_batch_onehot).pow(2).sum()*0.5\n",
        "        _, predicted_class = output.max(1)\n",
        "        correct += predicted_class.eq(y_batch).sum()       \n",
        "        \n",
        "        #Backward Pass (Back-Propagation)\n",
        "        # Derivative of MSE Loss        \n",
        "        diff = (output - y_batch_onehot)\n",
        "\n",
        "        grad_w2 = torch.mm(hidden_state_output.t(),torch.mul(diff, sigmoid_diff(output))) # 100 x 10 dimensional\n",
        "        grad_w1 =  torch.mm(x_batch.t(),torch.mul(torch.mm(torch.mul(diff, sigmoid_diff(output)), W_2.t())\n",
        "                             ,sigmoid_diff(hidden_state_output))) # 784 x 100\n",
        "        \n",
        "        # Perform gradient descent        \n",
        "        W_1 -= learning_rate*grad_w1\n",
        "        W_2 -= learning_rate*grad_w2\n",
        "        \n",
        "        \n",
        "    print(\"Epoch: {0} | loss: {1} | accuracy: {2}\".format(epoch, loss/len(train_loader)\n",
        "                                                          , correct/float(len(train_loader.dataset))))"
      ],
      "execution_count": null,
      "outputs": []
    },
    {
      "cell_type": "markdown",
      "metadata": {
        "id": "uKU_OPZg-L63"
      },
      "source": [
        "## Using in-built Autograd function\n",
        "\n",
        "loss.backward():  calculates the gradients of the loss function w.r.t all the parameters in the network\n",
        "\n",
        "optimizer.step(): updates all the parameters of the networks\n"
      ]
    },
    {
      "cell_type": "code",
      "metadata": {
        "id": "As_fx-x3-L64"
      },
      "source": [
        "import pdb\n",
        "learning_rate = 0.1\n",
        "\n",
        "W_1 = torch.randn(input_dim, num_of_hidden_nodes).type(torch.FloatTensor).cuda()\n",
        "W_2 = torch.randn(num_of_hidden_nodes, output_dim).type(torch.FloatTensor).cuda()\n",
        "W_1.requires_grad=True\n",
        "W_2.requires_grad=True\n",
        "y_batch_onehot = torch.FloatTensor(batch_size, output_dim).cuda()\n",
        "\n",
        "for epoch in range(0, num_epochs):\n",
        "    \n",
        "    correct = 0\n",
        "    total_loss = 0\n",
        "    for batch_idx, (x_batch, y_batch) in enumerate(train_loader):\n",
        "        \n",
        "        x_batch = x_batch.view(-1,784).cuda()\n",
        "        y_batch = y_batch.cuda()       \n",
        "        \n",
        "        # Forward Pass\n",
        "        hidden_state_output = torch.sigmoid(torch.mm(x_batch, W_1))\n",
        "        output = torch.sigmoid(torch.mm(hidden_state_output, W_2))\n",
        "        \n",
        "        \n",
        "        \n",
        "        \n",
        "        # Convert the labels to one hot encoded format\n",
        "        y_batch_onehot.data.zero_()\n",
        "        y_batch_onehot.data.scatter_(1, y_batch[:, None].data, 1)\n",
        "\n",
        "        \n",
        "        # Loss (Mean-Squared error)  \n",
        "        pdb.set_trace()\n",
        "        loss = (output - y_batch_onehot).pow(2).sum().mul(0.5)\n",
        "        total_loss += loss.item()\n",
        "        loss.backward()\n",
        "\n",
        "        # Calculate no of correct classifications\n",
        "        _, predicted_class = output.max(1)\n",
        "        correct += predicted_class.data.eq(y_batch.data).sum()              \n",
        "        \n",
        "       \n",
        "        \n",
        "        \n",
        "        \n",
        "        W_1.data -= learning_rate * W_1.grad.data\n",
        "        W_2.data -= learning_rate * W_2.grad.data\n",
        "                 # Manually zero the gradients before running the backward pass         \n",
        "        W_1.grad.data.zero_()\n",
        "        W_2.grad.data.zero_()\n",
        "\n",
        "    print(\"Epoch: {0} | loss: {1} | accuracy: {2}\".format(epoch, total_loss/len(train_loader)\n",
        "                                                          , correct/float(len(train_loader.dataset))))\n",
        "        \n",
        "        "
      ],
      "execution_count": null,
      "outputs": []
    }
  ]
}
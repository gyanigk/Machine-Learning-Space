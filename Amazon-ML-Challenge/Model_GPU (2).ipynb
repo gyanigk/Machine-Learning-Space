{
  "nbformat": 4,
  "nbformat_minor": 0,
  "metadata": {
    "colab": {
      "name": "Model_GPU.ipynb",
      "provenance": [],
      "collapsed_sections": [],
      "machine_shape": "hm"
    },
    "kernelspec": {
      "name": "python3",
      "display_name": "Python 3"
    },
    "accelerator": "GPU",
    "kernel_info": {
      "name": "python38-azureml"
    },
    "nteract": {
      "version": "nteract-front-end@1.0.0"
    },
    "microsoft": {
      "host": {
        "AzureML": {
          "notebookHasBeenCompleted": true
        }
      }
    },
    "language_info": {
      "name": "python"
    }
  },
  "cells": [
    {
      "cell_type": "markdown",
      "metadata": {
        "id": "pR3Ciq2GtOew"
      },
      "source": [
        "#NOTEBOOK BELONGS TO :\n",
        "- GYANIG KUMAR\n",
        "- GAURAV MAYAL\n",
        "- UTKARSH KUMAR\n",
        "- ANSH \n",
        "\n",
        "##FEW APPROACH DETAILS\n",
        "The model is based on using the convolutional neural networks, using the embedding and GloVE from NLP. The TITLE is considered to be the main set of words for accuracy. We tried creating a column with all the texts with individually cleaning and remving stopewords and even tried stemming and leximization of the text. But this approach proved to be efficient with right set of words defined. The BRAND column could be considered important also in somecases. \n",
        "- we considered mini batch implementations and using automatic learning_rate with the optimizer - adam\n",
        "- sparse categorial classifier seemed to work better than any other ML classifier\n",
        "\n",
        "##STACK\n",
        "- the code was designed using google colab pro using a GPU acceleration\n",
        "- TF2 as backend\n",
        "- sklearn as label encoder \n"
      ]
    },
    {
      "cell_type": "markdown",
      "metadata": {
        "id": "LVWr6opXqMBS"
      },
      "source": [
        "import all the requirements"
      ]
    },
    {
      "cell_type": "code",
      "metadata": {
        "collapsed": true,
        "jupyter": {
          "source_hidden": false,
          "outputs_hidden": false
        },
        "nteract": {
          "transient": {
            "deleting": false
          }
        },
        "gather": {
          "logged": 1627751705869
        },
        "colab": {
          "base_uri": "https://localhost:8080/"
        },
        "id": "dB5J788PZH8k",
        "outputId": "aaa14f1d-9299-432a-90f7-fb9b38cc3e23"
      },
      "source": [
        "import numpy as np\n",
        "import csv\n",
        "import pandas as pd\n",
        "import tensorflow as tf\n",
        "from tensorflow.keras.preprocessing import text, sequence\n",
        "from tensorflow.keras.models import Sequential\n",
        "from tensorflow.keras.layers import Dense, Dropout, Activation\n",
        "from tensorflow.keras.layers import Embedding\n",
        "from tensorflow.keras.layers import Conv1D, GlobalMaxPooling1D, MaxPooling1D\n",
        "from sklearn.model_selection import train_test_split\n",
        "from tensorflow.keras.callbacks import EarlyStopping\n",
        "from tensorflow.keras.optimizers import SGD, RMSprop, Adagrad, Adadelta, Adam, Adamax, Nadam#Try all of these\n",
        "from sklearn.preprocessing import LabelEncoder\n",
        "\n",
        "print(tf.__version__)"
      ],
      "execution_count": 1,
      "outputs": [
        {
          "output_type": "stream",
          "text": [
            "2.5.0\n"
          ],
          "name": "stdout"
        }
      ]
    },
    {
      "cell_type": "markdown",
      "metadata": {
        "id": "itNf6BZYqNBZ"
      },
      "source": [
        "using wget and unzip"
      ]
    },
    {
      "cell_type": "code",
      "metadata": {
        "colab": {
          "base_uri": "https://localhost:8080/"
        },
        "id": "MfQJxQLb76jp",
        "gather": {
          "logged": 1627744689030
        },
        "outputId": "451399b2-c97e-482d-a415-c9673aa3e143"
      },
      "source": [
        "!wget \"https://s3-ap-southeast-1.amazonaws.com/he-public-data/dataset52a7b21.zip\"\n",
        "!unzip dataset52a7b21.zip"
      ],
      "execution_count": 2,
      "outputs": [
        {
          "output_type": "stream",
          "text": [
            "--2021-08-01 18:01:32--  https://s3-ap-southeast-1.amazonaws.com/he-public-data/dataset52a7b21.zip\n",
            "Resolving s3-ap-southeast-1.amazonaws.com (s3-ap-southeast-1.amazonaws.com)... 52.219.125.74\n",
            "Connecting to s3-ap-southeast-1.amazonaws.com (s3-ap-southeast-1.amazonaws.com)|52.219.125.74|:443... connected.\n",
            "HTTP request sent, awaiting response... 200 OK\n",
            "Length: 1061576029 (1012M) [binary/octet-stream]\n",
            "Saving to: ‘dataset52a7b21.zip.1’\n",
            "\n",
            "dataset52a7b21.zip. 100%[===================>]   1012M  14.2MB/s    in 75s     \n",
            "\n",
            "2021-08-01 18:02:48 (13.5 MB/s) - ‘dataset52a7b21.zip.1’ saved [1061576029/1061576029]\n",
            "\n",
            "Archive:  dataset52a7b21.zip\n",
            "replace dataset/train.csv? [y]es, [n]o, [A]ll, [N]one, [r]ename: A\n",
            "  inflating: dataset/train.csv       \n",
            "  inflating: dataset/sample_submission.csv  \n",
            "  inflating: dataset/test.csv        \n",
            "  inflating: dataset/.~lock.train.csv#  \n"
          ],
          "name": "stdout"
        }
      ]
    },
    {
      "cell_type": "code",
      "metadata": {
        "collapsed": true,
        "jupyter": {
          "source_hidden": false,
          "outputs_hidden": false
        },
        "nteract": {
          "transient": {
            "deleting": false
          }
        },
        "gather": {
          "logged": 1627744762097
        },
        "id": "7fHKkGaAZH8v"
      },
      "source": [
        "#len(train_df)=2903024"
      ],
      "execution_count": null,
      "outputs": []
    },
    {
      "cell_type": "markdown",
      "metadata": {
        "id": "a5Egtw73qOkT"
      },
      "source": [
        "declaring dataframe and cleaning the data"
      ]
    },
    {
      "cell_type": "code",
      "metadata": {
        "id": "64S_1Iyw-FQu",
        "gather": {
          "logged": 1627744869799
        }
      },
      "source": [
        "train_df=pd.read_csv('dataset/train.csv',escapechar = \"\\\\\",quoting = csv.QUOTE_NONE)"
      ],
      "execution_count": 2,
      "outputs": []
    },
    {
      "cell_type": "code",
      "metadata": {
        "id": "89jJzEecO500"
      },
      "source": [
        "train_df.fillna(\"\",inplace=True)\n"
      ],
      "execution_count": 3,
      "outputs": []
    },
    {
      "cell_type": "code",
      "metadata": {
        "colab": {
          "base_uri": "https://localhost:8080/",
          "height": 419
        },
        "id": "u-0fL48a9R2S",
        "outputId": "533aa80a-3710-4fd1-a994-f2cb11cfa2ee"
      },
      "source": [
        "train_df"
      ],
      "execution_count": 5,
      "outputs": [
        {
          "output_type": "execute_result",
          "data": {
            "text/html": [
              "<div>\n",
              "<style scoped>\n",
              "    .dataframe tbody tr th:only-of-type {\n",
              "        vertical-align: middle;\n",
              "    }\n",
              "\n",
              "    .dataframe tbody tr th {\n",
              "        vertical-align: top;\n",
              "    }\n",
              "\n",
              "    .dataframe thead th {\n",
              "        text-align: right;\n",
              "    }\n",
              "</style>\n",
              "<table border=\"1\" class=\"dataframe\">\n",
              "  <thead>\n",
              "    <tr style=\"text-align: right;\">\n",
              "      <th></th>\n",
              "      <th>TITLE</th>\n",
              "      <th>DESCRIPTION</th>\n",
              "      <th>BULLET_POINTS</th>\n",
              "      <th>BRAND</th>\n",
              "      <th>BROWSE_NODE_ID</th>\n",
              "    </tr>\n",
              "  </thead>\n",
              "  <tbody>\n",
              "    <tr>\n",
              "      <th>0</th>\n",
              "      <td>Pete The Cat Bedtime Blues Doll, 14.5 Inch</td>\n",
              "      <td>Pete the Cat is the coolest, most popular cat ...</td>\n",
              "      <td>[Pete the Cat Bedtime Blues plush doll,Based o...</td>\n",
              "      <td>MerryMakers</td>\n",
              "      <td>0</td>\n",
              "    </tr>\n",
              "    <tr>\n",
              "      <th>1</th>\n",
              "      <td>The New Yorker NYHM014 Refrigerator Magnet, 2 ...</td>\n",
              "      <td>The New Yorker Handsome Cello Wrapped Hard Mag...</td>\n",
              "      <td>[Cat In A Tea Cup by New Yorker cover artist G...</td>\n",
              "      <td>The New Yorker</td>\n",
              "      <td>1</td>\n",
              "    </tr>\n",
              "    <tr>\n",
              "      <th>2</th>\n",
              "      <td>The Ultimate Self-Sufficiency Handbook: A Comp...</td>\n",
              "      <td></td>\n",
              "      <td>Skyhorse Publishing</td>\n",
              "      <td>imusti</td>\n",
              "      <td>2</td>\n",
              "    </tr>\n",
              "    <tr>\n",
              "      <th>3</th>\n",
              "      <td>Amway Nutrilite Kids Chewable Iron Tablets (100)</td>\n",
              "      <td></td>\n",
              "      <td>[Nutrilite Kids,Chewable Iron Tablets,Quantity...</td>\n",
              "      <td>Amway</td>\n",
              "      <td>3</td>\n",
              "    </tr>\n",
              "    <tr>\n",
              "      <th>4</th>\n",
              "      <td>Teacher Planner Company A4 6 Lesson Academic T...</td>\n",
              "      <td></td>\n",
              "      <td></td>\n",
              "      <td></td>\n",
              "      <td>4</td>\n",
              "    </tr>\n",
              "    <tr>\n",
              "      <th>...</th>\n",
              "      <td>...</td>\n",
              "      <td>...</td>\n",
              "      <td>...</td>\n",
              "      <td>...</td>\n",
              "      <td>...</td>\n",
              "    </tr>\n",
              "    <tr>\n",
              "      <th>2903019</th>\n",
              "      <td>Premium Aviator Sunglasses - HD Polarized (Bri...</td>\n",
              "      <td>These premium Aviator Sunglasses with 5 color ...</td>\n",
              "      <td>[Frame size: Lens height - 56mm, Lens width - ...</td>\n",
              "      <td>Generic</td>\n",
              "      <td>1040</td>\n",
              "    </tr>\n",
              "    <tr>\n",
              "      <th>2903020</th>\n",
              "      <td>Social Distance Stickers - Set of 5 Sticker Sl...</td>\n",
              "      <td>set of 5 prints social distancing sticker self...</td>\n",
              "      <td>[covid19 safety sticker - set of 5 to maintain...</td>\n",
              "      <td>Generic</td>\n",
              "      <td>15199</td>\n",
              "    </tr>\n",
              "    <tr>\n",
              "      <th>2903021</th>\n",
              "      <td>Torr-to Face Shield PACK OF 5 with Adjustable ...</td>\n",
              "      <td>* COMPLETE FACE PROTECTION: Torr-to Face Shiel...</td>\n",
              "      <td>[350 MICRONS PACK OF 5 PCS,COMPLETE FACE PROTE...</td>\n",
              "      <td>TORR-TO</td>\n",
              "      <td>1044933</td>\n",
              "    </tr>\n",
              "    <tr>\n",
              "      <th>2903022</th>\n",
              "      <td>Type-C to 3.5 MM for Oppo R17 Pro Type-C to 3....</td>\n",
              "      <td>Still want to use your favorite earphones/head...</td>\n",
              "      <td>[Indian Connectors: Made for Indian sockets, t...</td>\n",
              "      <td>SHOPBELL</td>\n",
              "      <td>14790</td>\n",
              "    </tr>\n",
              "    <tr>\n",
              "      <th>2903023</th>\n",
              "      <td>KNG Orange Polo Tshirt (38)</td>\n",
              "      <td>Performance inspired by comfort. The polo shir...</td>\n",
              "      <td></td>\n",
              "      <td>KNG</td>\n",
              "      <td>1213</td>\n",
              "    </tr>\n",
              "  </tbody>\n",
              "</table>\n",
              "<p>2903024 rows × 5 columns</p>\n",
              "</div>"
            ],
            "text/plain": [
              "                                                     TITLE  ... BROWSE_NODE_ID\n",
              "0               Pete The Cat Bedtime Blues Doll, 14.5 Inch  ...              0\n",
              "1        The New Yorker NYHM014 Refrigerator Magnet, 2 ...  ...              1\n",
              "2        The Ultimate Self-Sufficiency Handbook: A Comp...  ...              2\n",
              "3         Amway Nutrilite Kids Chewable Iron Tablets (100)  ...              3\n",
              "4        Teacher Planner Company A4 6 Lesson Academic T...  ...              4\n",
              "...                                                    ...  ...            ...\n",
              "2903019  Premium Aviator Sunglasses - HD Polarized (Bri...  ...           1040\n",
              "2903020  Social Distance Stickers - Set of 5 Sticker Sl...  ...          15199\n",
              "2903021  Torr-to Face Shield PACK OF 5 with Adjustable ...  ...        1044933\n",
              "2903022  Type-C to 3.5 MM for Oppo R17 Pro Type-C to 3....  ...          14790\n",
              "2903023                        KNG Orange Polo Tshirt (38)  ...           1213\n",
              "\n",
              "[2903024 rows x 5 columns]"
            ]
          },
          "metadata": {
            "tags": []
          },
          "execution_count": 5
        }
      ]
    },
    {
      "cell_type": "code",
      "metadata": {
        "colab": {
          "base_uri": "https://localhost:8080/",
          "height": 487
        },
        "id": "sJFTmMsvPRDy",
        "outputId": "80bf8fe2-0ad8-4801-cd22-7b435160ccdc"
      },
      "source": [
        "import nltk\n",
        "from nltk.tokenize import sent_tokenize,word_tokenize\n",
        "nltk.download('punkt') \n",
        "\n",
        "import re\n",
        "from nltk.corpus import stopwords\n",
        "nltk.download('stopwords')\n",
        "import string\n",
        "\n",
        "stop_words = stopwords.words('english')\n",
        "more = ['mm', 'cm', 'x', 'inch', 'inches', 'millimeter', 'centimeter']\n",
        "stop_words = stop_words + more\n",
        "\n",
        "def cleaning(text):\n",
        "    text = str(text).lower()\n",
        "    text = re.sub('\\[.*?\\]', '', text)\n",
        "    text = re.sub('https?://\\S+|www\\.\\S+', '', text)\n",
        "    text = re.sub('<.*?>+', '', text)\n",
        "    text = re.sub('[%s]' % re.escape(string.punctuation), '', text)\n",
        "    text = re.sub('\\n', '', text)\n",
        "    text = re.sub('\\w*\\d\\w*', '', text)\n",
        "\n",
        "    return text\n",
        "\n",
        "def sw_rem(text):\n",
        "    text = ' '.join(word for word in text.split(' ') if word not in stop_words)\n",
        "    return text\n",
        "\n",
        "train_df['TITLE']=train_df['TITLE'].apply(cleaning)\n",
        "train_df"
      ],
      "execution_count": 5,
      "outputs": [
        {
          "output_type": "stream",
          "text": [
            "[nltk_data] Downloading package punkt to /root/nltk_data...\n",
            "[nltk_data]   Package punkt is already up-to-date!\n",
            "[nltk_data] Downloading package stopwords to /root/nltk_data...\n",
            "[nltk_data]   Package stopwords is already up-to-date!\n"
          ],
          "name": "stdout"
        },
        {
          "output_type": "execute_result",
          "data": {
            "text/html": [
              "<div>\n",
              "<style scoped>\n",
              "    .dataframe tbody tr th:only-of-type {\n",
              "        vertical-align: middle;\n",
              "    }\n",
              "\n",
              "    .dataframe tbody tr th {\n",
              "        vertical-align: top;\n",
              "    }\n",
              "\n",
              "    .dataframe thead th {\n",
              "        text-align: right;\n",
              "    }\n",
              "</style>\n",
              "<table border=\"1\" class=\"dataframe\">\n",
              "  <thead>\n",
              "    <tr style=\"text-align: right;\">\n",
              "      <th></th>\n",
              "      <th>TITLE</th>\n",
              "      <th>DESCRIPTION</th>\n",
              "      <th>BULLET_POINTS</th>\n",
              "      <th>BRAND</th>\n",
              "      <th>BROWSE_NODE_ID</th>\n",
              "    </tr>\n",
              "  </thead>\n",
              "  <tbody>\n",
              "    <tr>\n",
              "      <th>0</th>\n",
              "      <td>pete the cat bedtime blues doll  inch</td>\n",
              "      <td>Pete the Cat is the coolest, most popular cat ...</td>\n",
              "      <td>[Pete the Cat Bedtime Blues plush doll,Based o...</td>\n",
              "      <td>MerryMakers</td>\n",
              "      <td>0</td>\n",
              "    </tr>\n",
              "    <tr>\n",
              "      <th>1</th>\n",
              "      <td>the new yorker  refrigerator magnet  x</td>\n",
              "      <td>The New Yorker Handsome Cello Wrapped Hard Mag...</td>\n",
              "      <td>[Cat In A Tea Cup by New Yorker cover artist G...</td>\n",
              "      <td>The New Yorker</td>\n",
              "      <td>1</td>\n",
              "    </tr>\n",
              "    <tr>\n",
              "      <th>2</th>\n",
              "      <td>the ultimate selfsufficiency handbook a comple...</td>\n",
              "      <td></td>\n",
              "      <td>Skyhorse Publishing</td>\n",
              "      <td>imusti</td>\n",
              "      <td>2</td>\n",
              "    </tr>\n",
              "    <tr>\n",
              "      <th>3</th>\n",
              "      <td>amway nutrilite kids chewable iron tablets</td>\n",
              "      <td></td>\n",
              "      <td>[Nutrilite Kids,Chewable Iron Tablets,Quantity...</td>\n",
              "      <td>Amway</td>\n",
              "      <td>3</td>\n",
              "    </tr>\n",
              "    <tr>\n",
              "      <th>4</th>\n",
              "      <td>teacher planner company   lesson academic teac...</td>\n",
              "      <td></td>\n",
              "      <td></td>\n",
              "      <td></td>\n",
              "      <td>4</td>\n",
              "    </tr>\n",
              "    <tr>\n",
              "      <th>...</th>\n",
              "      <td>...</td>\n",
              "      <td>...</td>\n",
              "      <td>...</td>\n",
              "      <td>...</td>\n",
              "      <td>...</td>\n",
              "    </tr>\n",
              "    <tr>\n",
              "      <th>2903019</th>\n",
              "      <td>premium aviator sunglasses  hd polarized brigh...</td>\n",
              "      <td>These premium Aviator Sunglasses with 5 color ...</td>\n",
              "      <td>[Frame size: Lens height - 56mm, Lens width - ...</td>\n",
              "      <td>Generic</td>\n",
              "      <td>1040</td>\n",
              "    </tr>\n",
              "    <tr>\n",
              "      <th>2903020</th>\n",
              "      <td>social distance stickers  set of  sticker slip...</td>\n",
              "      <td>set of 5 prints social distancing sticker self...</td>\n",
              "      <td>[covid19 safety sticker - set of 5 to maintain...</td>\n",
              "      <td>Generic</td>\n",
              "      <td>15199</td>\n",
              "    </tr>\n",
              "    <tr>\n",
              "      <th>2903021</th>\n",
              "      <td>torrto face shield pack of  with adjustable el...</td>\n",
              "      <td>* COMPLETE FACE PROTECTION: Torr-to Face Shiel...</td>\n",
              "      <td>[350 MICRONS PACK OF 5 PCS,COMPLETE FACE PROTE...</td>\n",
              "      <td>TORR-TO</td>\n",
              "      <td>1044933</td>\n",
              "    </tr>\n",
              "    <tr>\n",
              "      <th>2903022</th>\n",
              "      <td>typec to  mm for oppo  pro typec to  mm audio ...</td>\n",
              "      <td>Still want to use your favorite earphones/head...</td>\n",
              "      <td>[Indian Connectors: Made for Indian sockets, t...</td>\n",
              "      <td>SHOPBELL</td>\n",
              "      <td>14790</td>\n",
              "    </tr>\n",
              "    <tr>\n",
              "      <th>2903023</th>\n",
              "      <td>kng orange polo tshirt</td>\n",
              "      <td>Performance inspired by comfort. The polo shir...</td>\n",
              "      <td></td>\n",
              "      <td>KNG</td>\n",
              "      <td>1213</td>\n",
              "    </tr>\n",
              "  </tbody>\n",
              "</table>\n",
              "<p>2903024 rows × 5 columns</p>\n",
              "</div>"
            ],
            "text/plain": [
              "                                                     TITLE  ... BROWSE_NODE_ID\n",
              "0                    pete the cat bedtime blues doll  inch  ...              0\n",
              "1                  the new yorker  refrigerator magnet  x   ...              1\n",
              "2        the ultimate selfsufficiency handbook a comple...  ...              2\n",
              "3              amway nutrilite kids chewable iron tablets   ...              3\n",
              "4        teacher planner company   lesson academic teac...  ...              4\n",
              "...                                                    ...  ...            ...\n",
              "2903019  premium aviator sunglasses  hd polarized brigh...  ...           1040\n",
              "2903020  social distance stickers  set of  sticker slip...  ...          15199\n",
              "2903021  torrto face shield pack of  with adjustable el...  ...        1044933\n",
              "2903022  typec to  mm for oppo  pro typec to  mm audio ...  ...          14790\n",
              "2903023                            kng orange polo tshirt   ...           1213\n",
              "\n",
              "[2903024 rows x 5 columns]"
            ]
          },
          "metadata": {
            "tags": []
          },
          "execution_count": 5
        }
      ]
    },
    {
      "cell_type": "code",
      "metadata": {
        "id": "XTPsCXs04SBf"
      },
      "source": [
        "train_df['TITLE']= train_df['TITLE']+ \" \" + train_df['BRAND']"
      ],
      "execution_count": 6,
      "outputs": []
    },
    {
      "cell_type": "code",
      "metadata": {
        "id": "27wGfULl4heY"
      },
      "source": [
        "train_df['BULLET_POINTS']= train_df['BULLET_POINTS'].apply(sw_rem)"
      ],
      "execution_count": 7,
      "outputs": []
    },
    {
      "cell_type": "code",
      "metadata": {
        "id": "csM-hh9i44ec"
      },
      "source": [
        "REPLACE_BY_SPACE_RE = re.compile('[/(){}\\[\\]\\|@,;]')\n",
        "BAD_SYMBOLS_RE = re.compile('[^0-9a-z #+_]')\n",
        "STOPWORDS = set(stopwords.words('english'))\n",
        "\n",
        "def clean_text(text):\n",
        "    text = text.lower() # lowercase text\n",
        "    text = REPLACE_BY_SPACE_RE.sub(' ', text) # replace REPLACE_BY_SPACE_RE symbols by space in text. substitute the matched string in REPLACE_BY_SPACE_RE with space.\n",
        "    text = BAD_SYMBOLS_RE.sub('', text) # remove symbols which are in BAD_SYMBOLS_RE from text. substitute the matched string in BAD_SYMBOLS_RE with nothing. \n",
        "    text = text.replace('x', '')\n",
        "#    text = re.sub(r'\\W+', '', text)\n",
        "    # text = ' '.join(word for word in text.split() if word not in STOPWORDS) # remove stopwors from text\n",
        "    return text\n",
        "train_df['BULLET_POINTS'] = train_df['BULLET_POINTS'].apply(clean_text)\n",
        "train_df['BULLET_POINTS'] = train_df['BULLET_POINTS'].str.replace('\\d+', '')"
      ],
      "execution_count": 8,
      "outputs": []
    },
    {
      "cell_type": "code",
      "metadata": {
        "id": "uDGtN1Si5alE"
      },
      "source": [
        "train_df['TITLE']= train_df['TITLE']+ \" \" + train_df['BULLET_POINTS']"
      ],
      "execution_count": 9,
      "outputs": []
    },
    {
      "cell_type": "code",
      "metadata": {
        "colab": {
          "base_uri": "https://localhost:8080/",
          "height": 419
        },
        "id": "rkykaZFu7UOz",
        "outputId": "ccbcc2fc-d732-4066-bf77-7fd1bc63c9ce"
      },
      "source": [
        "train_df"
      ],
      "execution_count": 10,
      "outputs": [
        {
          "output_type": "execute_result",
          "data": {
            "text/html": [
              "<div>\n",
              "<style scoped>\n",
              "    .dataframe tbody tr th:only-of-type {\n",
              "        vertical-align: middle;\n",
              "    }\n",
              "\n",
              "    .dataframe tbody tr th {\n",
              "        vertical-align: top;\n",
              "    }\n",
              "\n",
              "    .dataframe thead th {\n",
              "        text-align: right;\n",
              "    }\n",
              "</style>\n",
              "<table border=\"1\" class=\"dataframe\">\n",
              "  <thead>\n",
              "    <tr style=\"text-align: right;\">\n",
              "      <th></th>\n",
              "      <th>TITLE</th>\n",
              "      <th>DESCRIPTION</th>\n",
              "      <th>BULLET_POINTS</th>\n",
              "      <th>BRAND</th>\n",
              "      <th>BROWSE_NODE_ID</th>\n",
              "    </tr>\n",
              "  </thead>\n",
              "  <tbody>\n",
              "    <tr>\n",
              "      <th>0</th>\n",
              "      <td>pete the cat bedtime blues doll  inch MerryMak...</td>\n",
              "      <td>Pete the Cat is the coolest, most popular cat ...</td>\n",
              "      <td>pete cat bedtime blues plush doll based popul...</td>\n",
              "      <td>MerryMakers</td>\n",
              "      <td>0</td>\n",
              "    </tr>\n",
              "    <tr>\n",
              "      <th>1</th>\n",
              "      <td>the new yorker  refrigerator magnet  x  The Ne...</td>\n",
              "      <td>The New Yorker Handsome Cello Wrapped Hard Mag...</td>\n",
              "      <td>cat in a tea cup new yorker cover artist gurb...</td>\n",
              "      <td>The New Yorker</td>\n",
              "      <td>1</td>\n",
              "    </tr>\n",
              "    <tr>\n",
              "      <th>2</th>\n",
              "      <td>the ultimate selfsufficiency handbook a comple...</td>\n",
              "      <td></td>\n",
              "      <td>skyhorse publishing</td>\n",
              "      <td>imusti</td>\n",
              "      <td>2</td>\n",
              "    </tr>\n",
              "    <tr>\n",
              "      <th>3</th>\n",
              "      <td>amway nutrilite kids chewable iron tablets  Am...</td>\n",
              "      <td></td>\n",
              "      <td>nutrilite kids chewable iron tablets quantity...</td>\n",
              "      <td>Amway</td>\n",
              "      <td>3</td>\n",
              "    </tr>\n",
              "    <tr>\n",
              "      <th>4</th>\n",
              "      <td>teacher planner company   lesson academic teac...</td>\n",
              "      <td></td>\n",
              "      <td></td>\n",
              "      <td></td>\n",
              "      <td>4</td>\n",
              "    </tr>\n",
              "    <tr>\n",
              "      <th>...</th>\n",
              "      <td>...</td>\n",
              "      <td>...</td>\n",
              "      <td>...</td>\n",
              "      <td>...</td>\n",
              "      <td>...</td>\n",
              "    </tr>\n",
              "    <tr>\n",
              "      <th>2903019</th>\n",
              "      <td>premium aviator sunglasses  hd polarized brigh...</td>\n",
              "      <td>These premium Aviator Sunglasses with 5 color ...</td>\n",
              "      <td>frame size lens height  mm  lens width   mm  ...</td>\n",
              "      <td>Generic</td>\n",
              "      <td>1040</td>\n",
              "    </tr>\n",
              "    <tr>\n",
              "      <th>2903020</th>\n",
              "      <td>social distance stickers  set of  sticker slip...</td>\n",
              "      <td>set of 5 prints social distancing sticker self...</td>\n",
              "      <td>covid safety sticker  set  maintain crowd con...</td>\n",
              "      <td>Generic</td>\n",
              "      <td>15199</td>\n",
              "    </tr>\n",
              "    <tr>\n",
              "      <th>2903021</th>\n",
              "      <td>torrto face shield pack of  with adjustable el...</td>\n",
              "      <td>* COMPLETE FACE PROTECTION: Torr-to Face Shiel...</td>\n",
              "      <td>microns pack of  pcs complete face protectio...</td>\n",
              "      <td>TORR-TO</td>\n",
              "      <td>1044933</td>\n",
              "    </tr>\n",
              "    <tr>\n",
              "      <th>2903022</th>\n",
              "      <td>typec to  mm for oppo  pro typec to  mm audio ...</td>\n",
              "      <td>Still want to use your favorite earphones/head...</td>\n",
              "      <td>indian connectors made indian sockets  wall c...</td>\n",
              "      <td>SHOPBELL</td>\n",
              "      <td>14790</td>\n",
              "    </tr>\n",
              "    <tr>\n",
              "      <th>2903023</th>\n",
              "      <td>kng orange polo tshirt  KNG</td>\n",
              "      <td>Performance inspired by comfort. The polo shir...</td>\n",
              "      <td></td>\n",
              "      <td>KNG</td>\n",
              "      <td>1213</td>\n",
              "    </tr>\n",
              "  </tbody>\n",
              "</table>\n",
              "<p>2903024 rows × 5 columns</p>\n",
              "</div>"
            ],
            "text/plain": [
              "                                                     TITLE  ... BROWSE_NODE_ID\n",
              "0        pete the cat bedtime blues doll  inch MerryMak...  ...              0\n",
              "1        the new yorker  refrigerator magnet  x  The Ne...  ...              1\n",
              "2        the ultimate selfsufficiency handbook a comple...  ...              2\n",
              "3        amway nutrilite kids chewable iron tablets  Am...  ...              3\n",
              "4        teacher planner company   lesson academic teac...  ...              4\n",
              "...                                                    ...  ...            ...\n",
              "2903019  premium aviator sunglasses  hd polarized brigh...  ...           1040\n",
              "2903020  social distance stickers  set of  sticker slip...  ...          15199\n",
              "2903021  torrto face shield pack of  with adjustable el...  ...        1044933\n",
              "2903022  typec to  mm for oppo  pro typec to  mm audio ...  ...          14790\n",
              "2903023                       kng orange polo tshirt  KNG   ...           1213\n",
              "\n",
              "[2903024 rows x 5 columns]"
            ]
          },
          "metadata": {
            "tags": []
          },
          "execution_count": 10
        }
      ]
    },
    {
      "cell_type": "code",
      "metadata": {
        "id": "zlzSafIR7sAP"
      },
      "source": [
        "# from collections import OrderedDict\n",
        "\n",
        "# train_df['TITLE'] = (train_df['TITLE'].str.split()\n",
        "#                               .apply(lambda x: dict.fromkeys(x))\n",
        "#                               .str.join(' '))\n",
        "# train_df"
      ],
      "execution_count": null,
      "outputs": []
    },
    {
      "cell_type": "markdown",
      "metadata": {
        "id": "Q351y0rh9l_G"
      },
      "source": [
        "- improve by remove the repeated words (major)"
      ]
    },
    {
      "cell_type": "code",
      "metadata": {
        "id": "GpGbsCIc8SgA",
        "gather": {
          "logged": 1627744870166
        }
      },
      "source": [
        "x = train_df['TITLE'].astype('str')"
      ],
      "execution_count": 11,
      "outputs": []
    },
    {
      "cell_type": "markdown",
      "metadata": {
        "id": "rLF5jAw_qP9M"
      },
      "source": [
        "Check if GPU is available"
      ]
    },
    {
      "cell_type": "code",
      "metadata": {
        "collapsed": true,
        "jupyter": {
          "source_hidden": false,
          "outputs_hidden": false
        },
        "nteract": {
          "transient": {
            "deleting": false
          }
        },
        "gather": {
          "logged": 1627744870743
        },
        "colab": {
          "base_uri": "https://localhost:8080/"
        },
        "id": "3X2FDHs6ZH86",
        "outputId": "f764c9ac-2c7a-418a-ccf5-6209d2dfc463"
      },
      "source": [
        "device_name = tf.test.gpu_device_name()\n",
        "if device_name != '/device:GPU:0':\n",
        " raise SystemError('GPU device not found')\n",
        "print('Found GPU at: {}'.format(device_name))"
      ],
      "execution_count": 89,
      "outputs": [
        {
          "output_type": "stream",
          "text": [
            "Found GPU at: /device:GPU:0\n"
          ],
          "name": "stdout"
        }
      ]
    },
    {
      "cell_type": "markdown",
      "metadata": {
        "id": "QmyDsckUqQbC"
      },
      "source": [
        "Using the GloVe and Embedding approach to find the emedding weight matrix\n",
        "using tokenizer for assign numbers to words"
      ]
    },
    {
      "cell_type": "code",
      "metadata": {
        "id": "UzccOX546Mcs",
        "gather": {
          "logged": 1627744973302
        }
      },
      "source": [
        "le = LabelEncoder()\n",
        "y=le.fit_transform(train_df['BROWSE_NODE_ID'])\n",
        "#y=np.expand_dims(y, axis=1)"
      ],
      "execution_count": 128,
      "outputs": []
    },
    {
      "cell_type": "markdown",
      "metadata": {
        "id": "NG9odtJIrP05"
      },
      "source": [
        "Y axis is BROWSE_NODE_ID"
      ]
    },
    {
      "cell_type": "code",
      "metadata": {
        "id": "IUjbeiAq6MCz",
        "gather": {
          "logged": 1627744975079
        }
      },
      "source": [
        "gpu_devices = tf.config.experimental.list_physical_devices(\"GPU\")\n",
        "for device in gpu_devices:\n",
        "    tf.config.experimental.set_memory_growth(device, True)"
      ],
      "execution_count": 91,
      "outputs": []
    },
    {
      "cell_type": "markdown",
      "metadata": {
        "id": "NLuYTAK7qRPc"
      },
      "source": [
        "configure the gpu "
      ]
    },
    {
      "cell_type": "code",
      "metadata": {
        "colab": {
          "base_uri": "https://localhost:8080/"
        },
        "id": "_mP7ojrYNFB2",
        "outputId": "8110e377-8fc4-4c24-ca2d-8f4cfa0c165b"
      },
      "source": [
        "np.max(train_df['TITLE'].apply(lambda x: len(x.split())).values)\n"
      ],
      "execution_count": 92,
      "outputs": [
        {
          "output_type": "execute_result",
          "data": {
            "text/plain": [
              "92"
            ]
          },
          "metadata": {
            "tags": []
          },
          "execution_count": 92
        }
      ]
    },
    {
      "cell_type": "code",
      "metadata": {
        "id": "SWhnsWID-8LT",
        "gather": {
          "logged": 1627744978261
        }
      },
      "source": [
        "max_features = 18000\n",
        "max_text_length = 100 #find the text with max length in code and change it for each column"
      ],
      "execution_count": 93,
      "outputs": []
    },
    {
      "cell_type": "code",
      "metadata": {
        "id": "R7SYc_Mp_aDn",
        "gather": {
          "logged": 1627745015146
        }
      },
      "source": [
        "x_tokenizer =text.Tokenizer(max_features)\n",
        "x_tokenizer.fit_on_texts(list(x))\n",
        "x_tokenized = x_tokenizer.texts_to_sequences(x)\n",
        "x_train_val = sequence.pad_sequences(x_tokenized, maxlen=max_text_length)"
      ],
      "execution_count": null,
      "outputs": []
    },
    {
      "cell_type": "markdown",
      "metadata": {
        "id": "Np7RuNPaqT2D"
      },
      "source": [
        "downloading the GloVE dataset for wordembeddings"
      ]
    },
    {
      "cell_type": "code",
      "metadata": {
        "colab": {
          "base_uri": "https://localhost:8080/"
        },
        "id": "INYtPwh8_dE9",
        "gather": {
          "logged": 1627745015444
        },
        "outputId": "947b9834-1c8c-406a-dc7a-23d74c15c85a"
      },
      "source": [
        "!wget http://nlp.stanford.edu/data/glove.6B.zip\n",
        "!unzip -q glove.6B.zip"
      ],
      "execution_count": 10,
      "outputs": [
        {
          "output_type": "stream",
          "text": [
            "--2021-08-01 14:17:13--  http://nlp.stanford.edu/data/glove.6B.zip\n",
            "Resolving nlp.stanford.edu (nlp.stanford.edu)... 171.64.67.140\n",
            "Connecting to nlp.stanford.edu (nlp.stanford.edu)|171.64.67.140|:80... connected.\n",
            "HTTP request sent, awaiting response... 302 Found\n",
            "Location: https://nlp.stanford.edu/data/glove.6B.zip [following]\n",
            "--2021-08-01 14:17:14--  https://nlp.stanford.edu/data/glove.6B.zip\n",
            "Connecting to nlp.stanford.edu (nlp.stanford.edu)|171.64.67.140|:443... connected.\n",
            "HTTP request sent, awaiting response... 301 Moved Permanently\n",
            "Location: http://downloads.cs.stanford.edu/nlp/data/glove.6B.zip [following]\n",
            "--2021-08-01 14:17:14--  http://downloads.cs.stanford.edu/nlp/data/glove.6B.zip\n",
            "Resolving downloads.cs.stanford.edu (downloads.cs.stanford.edu)... 171.64.64.22\n",
            "Connecting to downloads.cs.stanford.edu (downloads.cs.stanford.edu)|171.64.64.22|:80... connected.\n",
            "HTTP request sent, awaiting response... 200 OK\n",
            "Length: 862182613 (822M) [application/zip]\n",
            "Saving to: ‘glove.6B.zip’\n",
            "\n",
            "glove.6B.zip        100%[===================>] 822.24M  5.13MB/s    in 2m 42s  \n",
            "\n",
            "2021-08-01 14:19:56 (5.09 MB/s) - ‘glove.6B.zip’ saved [862182613/862182613]\n",
            "\n"
          ],
          "name": "stdout"
        }
      ]
    },
    {
      "cell_type": "code",
      "metadata": {
        "id": "zj08cHToVSA1",
        "colab": {
          "base_uri": "https://localhost:8080/"
        },
        "gather": {
          "logged": 1627745060650
        },
        "outputId": "5f348463-52e2-4055-ef9b-48f0225eefe2"
      },
      "source": [
        "embedding_dim = 300\n",
        "embedding_index = dict()\n",
        "f = open('glove.6B.300d.txt', encoding=\"utf8\")\n",
        "for line in f:\n",
        "    values = line.split()\n",
        "    word = values[0]\n",
        "    coefs = np.asarray(values[1:], dtype='float32')\n",
        "    embedding_index[word] = coefs\n",
        "f.close()\n",
        "print('Loaded %s word vectors.' % len(embedding_index))"
      ],
      "execution_count": 95,
      "outputs": [
        {
          "output_type": "stream",
          "text": [
            "Loaded 400000 word vectors.\n"
          ],
          "name": "stdout"
        }
      ]
    },
    {
      "cell_type": "code",
      "metadata": {
        "id": "hLAOP9ozYIx1",
        "gather": {
          "logged": 1627745060794
        }
      },
      "source": [
        "embedding_matrix = np.zeros((max_features, embedding_dim))\n",
        "for word, index in x_tokenizer.word_index.items():\n",
        "  if index>max_features -1:\n",
        "    break\n",
        "  else:\n",
        "    embedding_vector = embedding_index.get(word)\n",
        "    if embedding_vector is not None:\n",
        "      embedding_matrix[index] = embedding_vector\n",
        "del(embedding_vector)"
      ],
      "execution_count": 96,
      "outputs": []
    },
    {
      "cell_type": "code",
      "metadata": {
        "collapsed": true,
        "jupyter": {
          "source_hidden": false,
          "outputs_hidden": false
        },
        "nteract": {
          "transient": {
            "deleting": false
          }
        },
        "gather": {
          "logged": 1627748965518
        },
        "id": "f52E4qTRZH9I"
      },
      "source": [
        "embedding_matrix=np.float32(embedding_matrix)"
      ],
      "execution_count": 97,
      "outputs": []
    },
    {
      "cell_type": "code",
      "metadata": {
        "collapsed": true,
        "jupyter": {
          "source_hidden": false,
          "outputs_hidden": false
        },
        "nteract": {
          "transient": {
            "deleting": false
          }
        },
        "gather": {
          "logged": 1627745061096
        },
        "id": "fkF6B52jZH9J"
      },
      "source": [
        "import pickle\n",
        "dbfile = open('embeddingmatrix.pkl','ab')\n",
        "pickle.dump(embedding_matrix, dbfile)"
      ],
      "execution_count": 98,
      "outputs": []
    },
    {
      "cell_type": "code",
      "metadata": {
        "collapsed": true,
        "jupyter": {
          "source_hidden": false,
          "outputs_hidden": false
        },
        "nteract": {
          "transient": {
            "deleting": false
          }
        },
        "gather": {
          "logged": 1627748968733
        },
        "id": "k4fsj91eZH9K"
      },
      "source": [
        "embedding_dim = 300\n",
        "max_features = 20000\n",
        "max_text_length = 300"
      ],
      "execution_count": 99,
      "outputs": []
    },
    {
      "cell_type": "markdown",
      "metadata": {
        "id": "hDs6xHGgqWBw"
      },
      "source": [
        "splitting the dataset into training and validation sets"
      ]
    },
    {
      "cell_type": "code",
      "metadata": {
        "collapsed": true,
        "jupyter": {
          "source_hidden": false,
          "outputs_hidden": false
        },
        "nteract": {
          "transient": {
            "deleting": false
          }
        },
        "gather": {
          "logged": 1627748979258
        },
        "id": "4nZrKTAFZH9L"
      },
      "source": [
        "x_train, x_val, y_train, y_val = train_test_split(x_train_val,\n",
        "                                                  y,\n",
        "                                                  random_state=1,\n",
        "                                                  test_size=0.15)"
      ],
      "execution_count": 100,
      "outputs": []
    },
    {
      "cell_type": "markdown",
      "metadata": {
        "id": "uIvpeYjeqVV7"
      },
      "source": [
        "Model Generation and Training"
      ]
    },
    {
      "cell_type": "markdown",
      "metadata": {
        "id": "RNfNpPcLw4J0"
      },
      "source": [
        "calculating the shapes for different layers"
      ]
    },
    {
      "cell_type": "code",
      "metadata": {
        "id": "ecQrFoeUxjkj"
      },
      "source": [
        "# embedding_layer = Embedding(max_features,embedding_dim,embeddings_initializer=tf.keras.initializers.Constant(embedding_matrix))\n"
      ],
      "execution_count": 148,
      "outputs": []
    },
    {
      "cell_type": "code",
      "metadata": {
        "id": "iFiDEK5dw7uK"
      },
      "source": [
        "\n",
        "# inputs = Input(shape=(100,), dtype='int32')\n",
        "# embedding = embedding_layer(inputs)\n",
        "\n",
        "# print(embedding.shape)\n",
        "# reshape = Reshape((100,EMBEDDING_DIM,1))(embedding)\n",
        "# print(reshape.shape)\n",
        "\n",
        "# conv_0 = Conv2D(num_filters, kernel_size=(filter_sizes[0], embedding_dim), padding='valid', kernel_initializer='normal', activation='relu')(reshape)\n",
        "# conv_1 = Conv2D(num_filters, kernel_size=(filter_sizes[1], embedding_dim), padding='valid', kernel_initializer='normal', activation='relu')(reshape)\n",
        "# conv_2 = Conv2D(num_filters, kernel_size=(filter_sizes[2], embedding_dim), padding='valid', kernel_initializer='normal', activation='relu')(reshape)\n",
        "\n",
        "# maxpool_0 = MaxPool2D(pool_size=(MAX_SEQUENCE_LENGTH - filter_sizes[0] + 1, 1), strides=(1,1), padding='valid')(conv_0)\n",
        "# maxpool_1 = MaxPool2D(pool_size=(MAX_SEQUENCE_LENGTH - filter_sizes[1] + 1, 1), strides=(1,1), padding='valid')(conv_1)\n",
        "# maxpool_2 = MaxPool2D(pool_size=(MAX_SEQUENCE_LENGTH - filter_sizes[2] + 1, 1), strides=(1,1), padding='valid')(conv_2)\n",
        "\n",
        "# concatenated_tensor = Concatenate(axis=1)([maxpool_0, maxpool_1, maxpool_2])\n",
        "# flatten = Flatten()(concatenated_tensor)\n",
        "# dropout = Dropout(drop)(flatten)\n",
        "# output = Dense(units=20, activation='softmax')(dropout)"
      ],
      "execution_count": null,
      "outputs": []
    },
    {
      "cell_type": "code",
      "metadata": {
        "id": "Hn-sjHYZDHLU",
        "gather": {
          "logged": 1627749024136
        }
      },
      "source": [
        "model = Sequential()\n",
        "model.add(Embedding(max_features,\n",
        "                    embedding_dim,\n",
        "                    embeddings_initializer=tf.keras.initializers.Constant(embedding_matrix)))#,trainable=False\n",
        "model.add(Dropout(0.3))\n"
      ],
      "execution_count": null,
      "outputs": []
    },
    {
      "cell_type": "code",
      "metadata": {
        "collapsed": true,
        "jupyter": {
          "source_hidden": false,
          "outputs_hidden": false
        },
        "nteract": {
          "transient": {
            "deleting": false
          }
        },
        "gather": {
          "logged": 1627749027855
        },
        "colab": {
          "base_uri": "https://localhost:8080/"
        },
        "id": "qfukfvqLZH9N",
        "outputId": "7b62cedd-8457-4b75-de13-f829aad0cc1f"
      },
      "source": [
        "no_of_classes=len(train_df.BROWSE_NODE_ID.unique())\n",
        "no_of_classes"
      ],
      "execution_count": 102,
      "outputs": [
        {
          "output_type": "execute_result",
          "data": {
            "text/plain": [
              "9919"
            ]
          },
          "metadata": {
            "tags": []
          },
          "execution_count": 102
        }
      ]
    },
    {
      "cell_type": "code",
      "metadata": {
        "id": "FLEToGmCb3ZF",
        "gather": {
          "logged": 1627749029230
        }
      },
      "source": [
        "model.add(Conv1D(500,\n",
        "                 3,\n",
        "                 padding='valid', use_bias=True))\n",
        "model.add(GlobalMaxPooling1D())\n",
        "# model.add(BatchNormalization())\n",
        "model.add(Dropout(0.4))\n",
        "model.add(Dense(max_text_length, activation='tanh'),use_bias=True,  kernel_regularizer =tf.keras.regularizers.l2( l=0.01))\n",
        "model.add(Dropout(0.4))\n",
        "model.add(GlobalMaxPooling1D())\n",
        "model.add(Dropout(0.4))\n",
        "model.add(Dense(12000, activation='tanh',use_bias=True,  kernel_regularizer =tf.keras.regularizers.l2( l=0.01)))\n",
        "model.add(Dropout(0.3))\n",
        "model.add(Dense(no_of_classes,activation='softmax'),use_bias=True)\n",
        "model.compile(loss='sparse_categorical_crossentropy',optimizer='adam',metrics=['accuracy'])\n",
        "model.summary()\n",
        "\n",
        "\n",
        "# model.add(Conv1D(500,\n",
        "#                  3,\n",
        "#                  padding='valid'))\n",
        "# model.add(GlobalMaxPooling1D())\n",
        "# model.add(BatchNormalization())\n",
        "# model.add(Dropout(0.3))\n",
        "# model.add(Dense(max_text_length, activation='relu'))\n",
        "# model.add(Dropout(0.3))\n",
        "# model.add(Dense(max_text_length, activation='relu'))\n",
        "# model.add(Dropout(0.3))\n",
        "\n",
        "# model.add(Dense(12000, activation='tanh'))\n",
        "# model.add(Dropout(0.3))\n",
        "\n",
        "# model.add(Dense(no_of_classes,activation='softmax'))\n",
        "\n",
        "# model.summary()"
      ],
      "execution_count": null,
      "outputs": []
    },
    {
      "cell_type": "markdown",
      "metadata": {
        "id": "Ya9rhe8QcVrV"
      },
      "source": [
        "Train Model\n",
        "- Embedding layer is most important as it considers the words as numbers for classification\n",
        "- a dropout of 0.5 shows the random 0.5 neurons strictly for classification\n",
        "- conv and pooling helps to further consider the #params for better performance\n",
        "- dense provide back the final 9919 classes as output"
      ]
    },
    {
      "cell_type": "code",
      "metadata": {
        "collapsed": true,
        "jupyter": {
          "source_hidden": false,
          "outputs_hidden": false
        },
        "nteract": {
          "transient": {
            "deleting": false
          }
        },
        "gather": {
          "logged": 1627749086300
        },
        "colab": {
          "base_uri": "https://localhost:8080/"
        },
        "id": "jyYRLonsZH9Q",
        "outputId": "4d16c0b2-4aa1-4f90-c97f-548bcc87fdb6"
      },
      "source": [
        "tf.config.list_physical_devices('GPU')"
      ],
      "execution_count": 113,
      "outputs": [
        {
          "output_type": "execute_result",
          "data": {
            "text/plain": [
              "[PhysicalDevice(name='/physical_device:GPU:0', device_type='GPU')]"
            ]
          },
          "metadata": {
            "tags": []
          },
          "execution_count": 113
        }
      ]
    },
    {
      "cell_type": "code",
      "metadata": {
        "collapsed": true,
        "jupyter": {
          "source_hidden": false,
          "outputs_hidden": false
        },
        "nteract": {
          "transient": {
            "deleting": false
          }
        },
        "gather": {
          "logged": 1627733851591
        },
        "id": "eUfyTzR2ZH9S"
      },
      "source": [
        "physical_devices = tf.config.experimental.list_physical_devices('GPU')\n",
        "tf.config.experimental.set_memory_growth(physical_devices[0], True)"
      ],
      "execution_count": 114,
      "outputs": []
    },
    {
      "cell_type": "code",
      "metadata": {
        "collapsed": true,
        "jupyter": {
          "source_hidden": false,
          "outputs_hidden": false
        },
        "nteract": {
          "transient": {
            "deleting": false
          }
        },
        "gather": {
          "logged": 1627743879570
        },
        "colab": {
          "base_uri": "https://localhost:8080/"
        },
        "id": "cJEXq5bNZH9T",
        "outputId": "11b257b3-1e6e-4945-dc84-4818d564f901"
      },
      "source": [
        "print(\"Num GPUs Available: \", len(tf.config.list_physical_devices('GPU')))\n",
        "with tf.device('/gpu:0'):\n",
        "    a = tf.constant([1.0, 2.0, 3.0, 4.0, 5.0, 6.0], shape=[2, 3], name='a')\n",
        "    b = tf.constant([1.0, 2.0, 3.0, 4.0, 5.0, 6.0], shape=[3, 2], name='b')\n",
        "    c = tf.matmul(a, b)"
      ],
      "execution_count": 115,
      "outputs": [
        {
          "output_type": "stream",
          "text": [
            "Num GPUs Available:  1\n"
          ],
          "name": "stdout"
        }
      ]
    },
    {
      "cell_type": "code",
      "metadata": {
        "id": "i1lpjeBMepE-",
        "gather": {
          "logged": 1627750813079
        },
        "colab": {
          "base_uri": "https://localhost:8080/"
        },
        "outputId": "e918975e-d740-463f-d94b-21faf36cde20"
      },
      "source": [
        "import os\n",
        "batch_size = 512\n",
        "epochs = 5\n",
        "\n",
        "# callbacks = [EarlyStopping(monitor='val_loss')]\n",
        "checkpoint_path = \"training_1/cp.ckpt\"\n",
        "checkpoint_dir = os.path.dirname(checkpoint_path)\n",
        "\n",
        "# Create a callback that saves the model's weights\n",
        "cp_callback = tf.keras.callbacks.ModelCheckpoint(filepath=checkpoint_path,\n",
        "                                                 save_weights_only=True,\n",
        "                                                 verbose=1,\n",
        "                                                 save_freq=5*batch_size)\n",
        "model.save_weights(checkpoint_path.format(epoch=1))\n",
        "\n",
        "hist_adam=model.fit(x_train, y_train,\n",
        "          batch_size=batch_size,\n",
        "          epochs=epochs,\n",
        "          validation_data=(x_val,y_val),\n",
        "          callbacks=[cp_callback])"
      ],
      "execution_count": 165,
      "outputs": [
        {
          "output_type": "stream",
          "text": [
            "2560/4820 [==============>...............] - ETA: 3:55 - loss: 2.8177 - accuracy: 0.5106\n",
            "Epoch 00001: saving model to training_1/cp.ckpt\n",
            "4820/4820 [==============================] - 534s 111ms/step - loss: 2.5397 - accuracy: 0.5458 - val_loss: 1.6585 - val_accuracy: 0.6717\n"
          ],
          "name": "stdout"
        }
      ]
    },
    {
      "cell_type": "markdown",
      "metadata": {
        "id": "f5_Dc6qhsn2B"
      },
      "source": [
        "Plotting the data for better understanding of the performance\n",
        "- we could perform the variance and bais test for better understanding of the dataset being considered"
      ]
    },
    {
      "cell_type": "code",
      "metadata": {
        "collapsed": true,
        "jupyter": {
          "source_hidden": false,
          "outputs_hidden": false
        },
        "nteract": {
          "transient": {
            "deleting": false
          }
        },
        "id": "EvPDvTRpZH9X",
        "colab": {
          "base_uri": "https://localhost:8080/",
          "height": 329
        },
        "outputId": "e33e7cb4-0dc4-4490-9ec6-1611f53e124f"
      },
      "source": [
        "import matplotlib.pyplot as plt\n",
        "plt.suptitle('Optimizer : Adam', fontsize=10)\n",
        "plt.ylabel('Loss', fontsize=16)\n",
        "plt.xlabel('Epoch', fontsize=14)\n",
        "plt.plot(hist_adam.history['loss'], color='b', label='Training Loss')\n",
        "plt.plot(hist_adam.history['val_loss'], color='r', label='Validation Loss')\n",
        "plt.legend(loc='upper right')"
      ],
      "execution_count": 117,
      "outputs": [
        {
          "output_type": "execute_result",
          "data": {
            "text/plain": [
              "<matplotlib.legend.Legend at 0x7fe46fbd5450>"
            ]
          },
          "metadata": {
            "tags": []
          },
          "execution_count": 117
        },
        {
          "output_type": "display_data",
          "data": {
            "image/png": "[encoded data removed]",
            "text/plain": [
              "<Figure size 432x288 with 1 Axes>"
            ]
          },
          "metadata": {
            "tags": [],
            "needs_background": "light"
          }
        }
      ]
    },
    {
      "cell_type": "markdown",
      "metadata": {
        "id": "3gqeiOGCqcaL"
      },
      "source": [
        "Submission "
      ]
    },
    {
      "cell_type": "code",
      "metadata": {
        "collapsed": true,
        "jupyter": {
          "source_hidden": false,
          "outputs_hidden": false
        },
        "nteract": {
          "transient": {
            "deleting": false
          }
        },
        "id": "lptG39WIZH9Z",
        "colab": {
          "base_uri": "https://localhost:8080/"
        },
        "outputId": "c35d0fe2-c55f-4fd5-d9e9-9a8fe83c3143"
      },
      "source": [
        "!mkdir -p saved_model\n",
        "model.save('saved_model/my_model')"
      ],
      "execution_count": 167,
      "outputs": [
        {
          "output_type": "stream",
          "text": [
            "INFO:tensorflow:Assets written to: saved_model/my_model/assets\n"
          ],
          "name": "stdout"
        }
      ]
    },
    {
      "cell_type": "code",
      "metadata": {
        "jupyter": {
          "source_hidden": false,
          "outputs_hidden": false
        },
        "nteract": {
          "transient": {
            "deleting": false
          }
        },
        "gather": {
          "logged": 1627751835811
        },
        "id": "DiuGe3PzZH9b",
        "colab": {
          "base_uri": "https://localhost:8080/"
        },
        "outputId": "14432d3a-a33d-49ed-b35b-581dd5727543"
      },
      "source": [
        "new_model = tf.keras.models.load_model('saved_model/my_model')\n",
        "new_model.summary()"
      ],
      "execution_count": 168,
      "outputs": [
        {
          "output_type": "stream",
          "text": [
            "Model: \"sequential_17\"\n",
            "_________________________________________________________________\n",
            "Layer (type)                 Output Shape              Param #   \n",
            "=================================================================\n",
            "embedding_16 (Embedding)     (None, None, 300)         6000000   \n",
            "_________________________________________________________________\n",
            "dropout_38 (Dropout)         (None, None, 300)         0         \n",
            "_________________________________________________________________\n",
            "conv1d_34 (Conv1D)           (None, None, 500)         450500    \n",
            "_________________________________________________________________\n",
            "global_max_pooling1d_19 (Glo (None, 500)               0         \n",
            "_________________________________________________________________\n",
            "dropout_39 (Dropout)         (None, 500)               0         \n",
            "_________________________________________________________________\n",
            "dense_19 (Dense)             (None, 100)               50100     \n",
            "_________________________________________________________________\n",
            "dropout_40 (Dropout)         (None, 100)               0         \n",
            "_________________________________________________________________\n",
            "dense_20 (Dense)             (None, 12000)             1212000   \n",
            "_________________________________________________________________\n",
            "dropout_41 (Dropout)         (None, 12000)             0         \n",
            "_________________________________________________________________\n",
            "dense_21 (Dense)             (None, 9919)              119037919 \n",
            "=================================================================\n",
            "Total params: 126,750,519\n",
            "Trainable params: 126,750,519\n",
            "Non-trainable params: 0\n",
            "_________________________________________________________________\n"
          ],
          "name": "stdout"
        }
      ]
    },
    {
      "cell_type": "code",
      "metadata": {
        "collapsed": true,
        "jupyter": {
          "source_hidden": false,
          "outputs_hidden": false
        },
        "nteract": {
          "transient": {
            "deleting": false
          }
        },
        "gather": {
          "logged": 1627751942705
        },
        "id": "IXAKO3MRZH9g",
        "colab": {
          "base_uri": "https://localhost:8080/"
        },
        "outputId": "07c30ae8-9f0a-48cb-9606-142c95328ccb"
      },
      "source": [
        "x_test_val=np.float32(x_test_val)\n",
        "x_test_val"
      ],
      "execution_count": 122,
      "outputs": [
        {
          "output_type": "execute_result",
          "data": {
            "text/plain": [
              "array([[0.0000e+00, 0.0000e+00, 0.0000e+00, ..., 5.4000e+01, 1.7000e+01,\n",
              "        1.8072e+04],\n",
              "       [0.0000e+00, 0.0000e+00, 0.0000e+00, ..., 6.0000e+00, 3.0000e+01,\n",
              "        2.7300e+02],\n",
              "       [0.0000e+00, 0.0000e+00, 0.0000e+00, ..., 1.4100e+02, 5.6000e+01,\n",
              "        2.7450e+03],\n",
              "       ...,\n",
              "       [0.0000e+00, 0.0000e+00, 0.0000e+00, ..., 1.7000e+01, 1.0000e+01,\n",
              "        8.0000e+00],\n",
              "       [0.0000e+00, 0.0000e+00, 0.0000e+00, ..., 1.0000e+01, 3.4800e+02,\n",
              "        1.8400e+02],\n",
              "       [0.0000e+00, 0.0000e+00, 0.0000e+00, ..., 1.7000e+01, 1.0000e+01,\n",
              "        1.4000e+01]], dtype=float32)"
            ]
          },
          "metadata": {
            "tags": []
          },
          "execution_count": 122
        }
      ]
    },
    {
      "cell_type": "code",
      "metadata": {
        "collapsed": true,
        "jupyter": {
          "source_hidden": false,
          "outputs_hidden": false
        },
        "nteract": {
          "transient": {
            "deleting": false
          }
        },
        "gather": {
          "logged": 1627752073781
        },
        "id": "7lm0TVbRZH9h"
      },
      "source": [
        "pred1=new_model.predict(x_test_val)"
      ],
      "execution_count": null,
      "outputs": []
    },
    {
      "cell_type": "code",
      "metadata": {
        "collapsed": true,
        "jupyter": {
          "source_hidden": false,
          "outputs_hidden": false
        },
        "nteract": {
          "transient": {
            "deleting": false
          }
        },
        "gather": {
          "logged": 1627752726889
        },
        "id": "7D6EMeocZH9i"
      },
      "source": [
        "sub=pd.read_csv('dataset/sample_submission.csv',escapechar = \"\\\\\",quoting = csv.QUOTE_NONE)"
      ],
      "execution_count": 124,
      "outputs": []
    },
    {
      "cell_type": "code",
      "metadata": {
        "collapsed": true,
        "jupyter": {
          "source_hidden": false,
          "outputs_hidden": false
        },
        "nteract": {
          "transient": {
            "deleting": false
          }
        },
        "gather": {
          "logged": 1627753771337
        },
        "id": "VSKLeDpLZH9j"
      },
      "source": [
        "# len(pred1[3])\n",
        "# train_df=pd.read_csv('dataset/train.csv',escapechar = \"\\\\\",quoting = csv.QUOTE_NONE)\n",
        "# le = LabelEncoder()\n",
        "# y=le.fit_transform(train_df['BROWSE_NODE_ID'])"
      ],
      "execution_count": 125,
      "outputs": []
    },
    {
      "cell_type": "code",
      "metadata": {
        "collapsed": true,
        "jupyter": {
          "source_hidden": false,
          "outputs_hidden": false
        },
        "nteract": {
          "transient": {
            "deleting": false
          }
        },
        "gather": {
          "logged": 1627754186367
        },
        "id": "-9QaYUlhZH9k"
      },
      "source": [
        "pred=[]\n",
        "for item in range(len(pred1)):\n",
        "    ind = np.argpartition(pred1[item], -5)[-5:]\n",
        "    pred.append([ind[np.argsort(pred1[1,ind])][-1]])"
      ],
      "execution_count": 129,
      "outputs": []
    },
    {
      "cell_type": "code",
      "metadata": {
        "collapsed": true,
        "jupyter": {
          "source_hidden": false,
          "outputs_hidden": false
        },
        "nteract": {
          "transient": {
            "deleting": false
          }
        },
        "gather": {
          "logged": 1627754299081
        },
        "id": "cdurlv8OZH9m"
      },
      "source": [
        "pred = [item for sublist in pred for item in sublist]\n",
        "pred"
      ],
      "execution_count": 130,
      "outputs": []
    },
    {
      "cell_type": "code",
      "metadata": {
        "collapsed": true,
        "jupyter": {
          "source_hidden": false,
          "outputs_hidden": false
        },
        "nteract": {
          "transient": {
            "deleting": false
          }
        },
        "gather": {
          "logged": 1627754307284
        },
        "id": "ZBZi2648ZH9n"
      },
      "source": [
        "y=le.inverse_transform(pred)"
      ],
      "execution_count": 131,
      "outputs": []
    },
    {
      "cell_type": "code",
      "metadata": {
        "collapsed": true,
        "jupyter": {
          "source_hidden": false,
          "outputs_hidden": false
        },
        "nteract": {
          "transient": {
            "deleting": false
          }
        },
        "gather": {
          "logged": 1627754673212
        },
        "id": "p66nTzitZH9n",
        "colab": {
          "base_uri": "https://localhost:8080/"
        },
        "outputId": "fe477461-ea8f-4062-9c1f-13729476f363"
      },
      "source": [
        "sub.columns"
      ],
      "execution_count": 132,
      "outputs": [
        {
          "output_type": "execute_result",
          "data": {
            "text/plain": [
              "Index(['PRODUCT_ID', 'BROWSE_NODE_ID'], dtype='object')"
            ]
          },
          "metadata": {
            "tags": []
          },
          "execution_count": 132
        }
      ]
    },
    {
      "cell_type": "code",
      "metadata": {
        "collapsed": true,
        "jupyter": {
          "source_hidden": false,
          "outputs_hidden": false
        },
        "nteract": {
          "transient": {
            "deleting": false
          }
        },
        "gather": {
          "logged": 1627754765807
        },
        "id": "QnbimNYDZH9p",
        "colab": {
          "base_uri": "https://localhost:8080/"
        },
        "outputId": "fef34d75-0932-4ee0-e8b6-35ac10eb71c5"
      },
      "source": [
        "len(train_df),len(y)"
      ],
      "execution_count": 133,
      "outputs": [
        {
          "output_type": "execute_result",
          "data": {
            "text/plain": [
              "(2903024, 110775)"
            ]
          },
          "metadata": {
            "tags": []
          },
          "execution_count": 133
        }
      ]
    },
    {
      "cell_type": "code",
      "metadata": {
        "collapsed": true,
        "jupyter": {
          "source_hidden": false,
          "outputs_hidden": false
        },
        "nteract": {
          "transient": {
            "deleting": false
          }
        },
        "gather": {
          "logged": 1627754920358
        },
        "id": "yY8nai-MZH9q",
        "colab": {
          "base_uri": "https://localhost:8080/",
          "height": 419
        },
        "outputId": "da6bc74a-c3e9-4ac8-ee52-b0fc94f49c23"
      },
      "source": [
        "d = {'PRODUCT_ID': test_df.PRODUCT_ID, 'BROWSE_NODE_ID': y}\n",
        "SUBMISSION = pd.DataFrame(data=d)\n",
        "SUBMISSION"
      ],
      "execution_count": 166,
      "outputs": [
        {
          "output_type": "execute_result",
          "data": {
            "text/html": [
              "<div>\n",
              "<style scoped>\n",
              "    .dataframe tbody tr th:only-of-type {\n",
              "        vertical-align: middle;\n",
              "    }\n",
              "\n",
              "    .dataframe tbody tr th {\n",
              "        vertical-align: top;\n",
              "    }\n",
              "\n",
              "    .dataframe thead th {\n",
              "        text-align: right;\n",
              "    }\n",
              "</style>\n",
              "<table border=\"1\" class=\"dataframe\">\n",
              "  <thead>\n",
              "    <tr style=\"text-align: right;\">\n",
              "      <th></th>\n",
              "      <th>PRODUCT_ID</th>\n",
              "      <th>BROWSE_NODE_ID</th>\n",
              "    </tr>\n",
              "  </thead>\n",
              "  <tbody>\n",
              "    <tr>\n",
              "      <th>0</th>\n",
              "      <td>1</td>\n",
              "      <td>37666</td>\n",
              "    </tr>\n",
              "    <tr>\n",
              "      <th>1</th>\n",
              "      <td>2</td>\n",
              "      <td>2077</td>\n",
              "    </tr>\n",
              "    <tr>\n",
              "      <th>2</th>\n",
              "      <td>3</td>\n",
              "      <td>4</td>\n",
              "    </tr>\n",
              "    <tr>\n",
              "      <th>3</th>\n",
              "      <td>4</td>\n",
              "      <td>956</td>\n",
              "    </tr>\n",
              "    <tr>\n",
              "      <th>4</th>\n",
              "      <td>5</td>\n",
              "      <td>4</td>\n",
              "    </tr>\n",
              "    <tr>\n",
              "      <th>...</th>\n",
              "      <td>...</td>\n",
              "      <td>...</td>\n",
              "    </tr>\n",
              "    <tr>\n",
              "      <th>110770</th>\n",
              "      <td>110771</td>\n",
              "      <td>4</td>\n",
              "    </tr>\n",
              "    <tr>\n",
              "      <th>110771</th>\n",
              "      <td>110772</td>\n",
              "      <td>3928</td>\n",
              "    </tr>\n",
              "    <tr>\n",
              "      <th>110772</th>\n",
              "      <td>110773</td>\n",
              "      <td>1313</td>\n",
              "    </tr>\n",
              "    <tr>\n",
              "      <th>110773</th>\n",
              "      <td>110774</td>\n",
              "      <td>757</td>\n",
              "    </tr>\n",
              "    <tr>\n",
              "      <th>110774</th>\n",
              "      <td>110775</td>\n",
              "      <td>1313</td>\n",
              "    </tr>\n",
              "  </tbody>\n",
              "</table>\n",
              "<p>110775 rows × 2 columns</p>\n",
              "</div>"
            ],
            "text/plain": [
              "        PRODUCT_ID  BROWSE_NODE_ID\n",
              "0                1           37666\n",
              "1                2            2077\n",
              "2                3               4\n",
              "3                4             956\n",
              "4                5               4\n",
              "...            ...             ...\n",
              "110770      110771               4\n",
              "110771      110772            3928\n",
              "110772      110773            1313\n",
              "110773      110774             757\n",
              "110774      110775            1313\n",
              "\n",
              "[110775 rows x 2 columns]"
            ]
          },
          "metadata": {
            "tags": []
          },
          "execution_count": 166
        }
      ]
    },
    {
      "cell_type": "code",
      "metadata": {
        "collapsed": true,
        "jupyter": {
          "source_hidden": false,
          "outputs_hidden": false
        },
        "nteract": {
          "transient": {
            "deleting": false
          }
        },
        "gather": {
          "logged": 1627755090140
        },
        "id": "p023guFHZH9r"
      },
      "source": [
        "SUBMISSION.to_csv('Submission_final.csv',index=False)"
      ],
      "execution_count": 135,
      "outputs": []
    }
  ]
}
{
 "cells": [
  {
   "cell_type": "code",
   "execution_count": 3,
   "id": "fb01fda1",
   "metadata": {},
   "outputs": [
    {
     "name": "stderr",
     "output_type": "stream",
     "text": [
      "[nltk_data] Downloading package stopwords to\n",
      "[nltk_data]     /home/solomon/nltk_data...\n",
      "[nltk_data]   Package stopwords is already up-to-date!\n"
     ]
    },
    {
     "data": {
      "text/plain": [
       "True"
      ]
     },
     "execution_count": 3,
     "metadata": {},
     "output_type": "execute_result"
    }
   ],
   "source": [
    "import numpy as np\n",
    "import pandas as pd\n",
    "import matplotlib.pyplot as plt\n",
    "from bs4 import BeautifulSoup\n",
    "import nltk\n",
    "from nltk.corpus import stopwords\n",
    "import csv \n",
    "import re\n",
    "\n",
    "%matplotlib inline\n",
    "\n",
    "nltk.download('stopwords')"
   ]
  },
  {
   "cell_type": "code",
   "execution_count": 4,
   "id": "e1f767fc",
   "metadata": {},
   "outputs": [],
   "source": [
    "train_data = pd.read_csv(\"/home/solomon/DataSet/dataset52a7b21/dataset/train.csv\", escapechar = \"\\\\\", quoting = csv.QUOTE_NONE)\n",
    "test_data = pd.read_csv(\"/home/solomon/DataSet/dataset52a7b21/dataset/test.csv\", escapechar = \"\\\\\", quoting = csv.QUOTE_NONE)"
   ]
  },
  {
   "cell_type": "code",
   "execution_count": 5,
   "id": "3495aa6c",
   "metadata": {},
   "outputs": [
    {
     "name": "stdout",
     "output_type": "stream",
     "text": [
      "<class 'pandas.core.frame.DataFrame'>\n",
      "RangeIndex: 2903024 entries, 0 to 2903023\n",
      "Data columns (total 5 columns):\n",
      " #   Column          Dtype \n",
      "---  ------          ----- \n",
      " 0   TITLE           object\n",
      " 1   DESCRIPTION     object\n",
      " 2   BULLET_POINTS   object\n",
      " 3   BRAND           object\n",
      " 4   BROWSE_NODE_ID  int64 \n",
      "dtypes: int64(1), object(4)\n",
      "memory usage: 110.7+ MB\n"
     ]
    }
   ],
   "source": [
    "train_data.info()"
   ]
  },
  {
   "cell_type": "code",
   "execution_count": 6,
   "id": "de6ca92a",
   "metadata": {},
   "outputs": [
    {
     "name": "stdout",
     "output_type": "stream",
     "text": [
      "<class 'pandas.core.frame.DataFrame'>\n",
      "RangeIndex: 110775 entries, 0 to 110774\n",
      "Data columns (total 5 columns):\n",
      " #   Column         Non-Null Count   Dtype \n",
      "---  ------         --------------   ----- \n",
      " 0   PRODUCT_ID     110775 non-null  int64 \n",
      " 1   TITLE          110768 non-null  object\n",
      " 2   DESCRIPTION    100306 non-null  object\n",
      " 3   BULLET_POINTS  103989 non-null  object\n",
      " 4   BRAND          108345 non-null  object\n",
      "dtypes: int64(1), object(4)\n",
      "memory usage: 4.2+ MB\n"
     ]
    }
   ],
   "source": [
    "test_data.info()"
   ]
  },
  {
   "cell_type": "markdown",
   "id": "e859623a",
   "metadata": {},
   "source": [
    "## Training data cleaning"
   ]
  },
  {
   "cell_type": "code",
   "execution_count": 9,
   "id": "390041ff",
   "metadata": {},
   "outputs": [],
   "source": [
    "REPLACE_BY_SPACE_RE = re.compile('[/(){}\\[\\]\\|@,;]')\n",
    "BAD_SYMBOLS_RE = re.compile('[^0-9a-z #+_]')\n",
    "STOPWORDS = set(stopwords.words('english'))\n",
    "\n",
    "def clean_text(text):\n",
    "    \"\"\"\n",
    "        text: a string\n",
    "        \n",
    "        return: modified initial string\n",
    "    \"\"\"\n",
    "    \n",
    "    if(text!=text):\n",
    "        return \"\"\n",
    "    #text = BeautifulSoup(text, \"lxml\").text # HTML decoding\n",
    "    text = text.lower() # lowercase text\n",
    "    text = REPLACE_BY_SPACE_RE.sub(' ', text) # replace REPLACE_BY_SPACE_RE symbols by space in text\n",
    "    text = BAD_SYMBOLS_RE.sub('', text) # delete symbols which are in BAD_SYMBOLS_RE from text\n",
    "    text = ' '.join(word for word in text.split() if word not in STOPWORDS) # delete stopwors from text\n",
    "    return text\n",
    "\n",
    "clean_train_data = dict()\n",
    "clean_train_data['TITLE'] = train_data['TITLE'].apply(clean_text)\n",
    "clean_train_data['BULLET_POINTS'] = train_data['BULLET_POINTS'].apply(clean_text)\n",
    "clean_train_data['BRAND'] = train_data['BRAND'].apply(clean_text)\n",
    "clean_train_data['DESCRIPTION'] = train_data['DESCRIPTION'].apply(clean_text)\n",
    "clean_train_data['BROWSE_NODE_ID'] = train_data['BROWSE_NODE_ID']"
   ]
  },
  {
   "cell_type": "code",
   "execution_count": 10,
   "id": "6be5de3c",
   "metadata": {},
   "outputs": [],
   "source": [
    "clean_train_data_df = pd.DataFrame(clean_train_data)\n",
    "clean_train_data_df.to_csv(\"/home/solomon/DataSet/dataset52a7b21/dataset/clean_train.csv\")"
   ]
  }
 ],
 "metadata": {
  "kernelspec": {
   "display_name": "Python 3",
   "language": "python",
   "name": "python3"
  },
  "language_info": {
   "codemirror_mode": {
    "name": "ipython",
    "version": 3
   },
   "file_extension": ".py",
   "mimetype": "text/x-python",
   "name": "python",
   "nbconvert_exporter": "python",
   "pygments_lexer": "ipython3",
   "version": "3.8.10"
  }
 },
 "nbformat": 4,
 "nbformat_minor": 5
}

{
 "cells": [
  {
   "cell_type": "code",
   "execution_count": 1,
   "id": "6a7e1f1b",
   "metadata": {},
   "outputs": [
    {
     "name": "stderr",
     "output_type": "stream",
     "text": [
      "/usr/local/lib/python3.8/dist-packages/gensim/similarities/__init__.py:15: UserWarning: The gensim.similarities.levenshtein submodule is disabled, because the optional Levenshtein package <https://pypi.org/project/python-Levenshtein/> is unavailable. Install Levenhstein (e.g. `pip install python-Levenshtein`) to suppress this warning.\n",
      "  warnings.warn(msg)\n"
     ]
    }
   ],
   "source": [
    "import numpy as np\n",
    "import pandas as pd\n",
    "import matplotlib.pyplot as plt\n",
    "import nltk\n",
    "import csv\n",
    "import gensim\n",
    "from sklearn.model_selection import train_test_split\n",
    "from sklearn.feature_extraction.text import CountVectorizer, TfidfVectorizer\n",
    "from sklearn.metrics import accuracy_score, confusion_matrix\n",
    "from sklearn.naive_bayes import MultinomialNB\n",
    "from sklearn.pipeline import Pipeline\n",
    "from sklearn.feature_extraction.text import TfidfTransformer\n",
    "\n",
    "%matplotlib inline\n",
    "\n",
    "RANDOM_SEED = 69"
   ]
  },
  {
   "cell_type": "markdown",
   "id": "8afcbfa3",
   "metadata": {},
   "source": [
    "# Import cleaned training data"
   ]
  },
  {
   "cell_type": "code",
   "execution_count": 2,
   "id": "aa0573d0",
   "metadata": {},
   "outputs": [],
   "source": [
    "train_data = pd.read_csv(\"/home/solomon/DataSet/dataset52a7b21/dataset/clean_train.csv\", escapechar = \"\\\\\", quoting = csv.QUOTE_NONE)\n",
    "test_data = pd.read_csv(\"/home/solomon/DataSet/dataset52a7b21/dataset/test.csv\", escapechar = \"\\\\\", quoting = csv.QUOTE_NONE)"
   ]
  },
  {
   "cell_type": "code",
   "execution_count": 3,
   "id": "9690bd23",
   "metadata": {},
   "outputs": [],
   "source": [
    "train_data = train_data[pd.notnull(train_data[\"TITLE\"]) & pd.notnull(train_data[\"DESCRIPTION\"]) & pd.notnull(train_data[\"BULLET_POINTS\"]) & pd.notnull(train_data[\"BRAND\"])]\n",
    "test_data = test_data[pd.notnull(test_data[\"TITLE\"]) & pd.notnull(test_data[\"DESCRIPTION\"]) & pd.notnull(test_data[\"BULLET_POINTS\"]) & pd.notnull(test_data[\"BRAND\"])]"
   ]
  },
  {
   "cell_type": "code",
   "execution_count": 4,
   "id": "28986409",
   "metadata": {},
   "outputs": [
    {
     "name": "stdout",
     "output_type": "stream",
     "text": [
      "Training Size:-  1475141\n",
      "Validation Size:-  632203\n",
      "Test Size:-  97793\n"
     ]
    }
   ],
   "source": [
    "#X = np.array([train_data[\"TITLE\"], train_data[\"DESCRIPTION\"], train_data[\"BULLET_POINTS\"], train_data[\"BRAND\"]])\n",
    "#X = X.T\n",
    "X = train_data[\"TITLE\"].map(str) + \" \" + train_data[\"DESCRIPTION\"].map(str) + \" \" + train_data[\"BULLET_POINTS\"].map(str) + \" \" + train_data[\"BRAND\"]\n",
    "y = train_data[\"BROWSE_NODE_ID\"]\n",
    "\n",
    "\n",
    "#X_test = np.array([test_data[\"TITLE\"], test_data[\"DESCRIPTION\"], test_data[\"BULLET_POINTS\"], test_data[\"BRAND\"]])\n",
    "#X_test = X_test.T\n",
    "X_test = test_data[\"TITLE\"].map(str) + \" \" + test_data[\"DESCRIPTION\"].map(str) + \" \" + test_data[\"BULLET_POINTS\"].map(str) + \" \" + test_data[\"BRAND\"]\n",
    "\n",
    "## Validation size\n",
    "validation_size = 0.3\n",
    "X_train, X_validation, y_train, y_validation = train_test_split(X, y, test_size=validation_size,\n",
    "                                                                random_state=RANDOM_SEED)\n",
    "\n",
    "print(\"Training Size:- \", int((X.shape[0])*(1-validation_size)))\n",
    "print(\"Validation Size:- \", int((X.shape[0])*(validation_size)))\n",
    "print(\"Test Size:- \", X_test.shape[0])"
   ]
  },
  {
   "cell_type": "markdown",
   "id": "687a3799",
   "metadata": {},
   "source": [
    "# Multinomial Naive Bayes"
   ]
  },
  {
   "cell_type": "code",
   "execution_count": 5,
   "id": "30b50b26",
   "metadata": {},
   "outputs": [
    {
     "name": "stdout",
     "output_type": "stream",
     "text": [
      "(1475141,)\n"
     ]
    },
    {
     "data": {
      "text/plain": [
       "Pipeline(steps=[('vect', CountVectorizer()), ('tfidf', TfidfTransformer()),\n",
       "                ('clf', MultinomialNB())])"
      ]
     },
     "execution_count": 5,
     "metadata": {},
     "output_type": "execute_result"
    }
   ],
   "source": [
    "nb = Pipeline([('vect', CountVectorizer()),\n",
    "               ('tfidf', TfidfTransformer()),\n",
    "               ('clf', MultinomialNB()),\n",
    "              ])\n",
    "print(X_train.shape)\n",
    "nb.fit(X_train[:1000], y_train[:1000])"
   ]
  },
  {
   "cell_type": "code",
   "execution_count": 10,
   "id": "0526a435",
   "metadata": {},
   "outputs": [
    {
     "name": "stdout",
     "output_type": "stream",
     "text": [
      "Accuracy:- 11.97\n"
     ]
    }
   ],
   "source": [
    "y_pred = nb.predict(X_validation[:10000])\n",
    "print('Accuracy:-',100*accuracy_score(y_pred, y_validation[:10000]))"
   ]
  },
  {
   "cell_type": "markdown",
   "id": "5622bbb0",
   "metadata": {},
   "source": [
    "# Word2Vec and logistic regression"
   ]
  },
  {
   "cell_type": "code",
   "execution_count": 13,
   "id": "e5118fcc",
   "metadata": {},
   "outputs": [
    {
     "data": {
      "text/plain": [
       "'pete cat bedtime blues doll 145 inch pete cat coolest popular cat town new pete cat bedtime blues doll merrymakers rocks striped pjs red slippers one sleepy cat ready cuddle measures 145 inches tall safe ages removable clothing surface wash new 2015 pete cat bedtime blues plush doll based popular pete cat books james dean super cuddly ready naptime bedtime safe ages perfect ages 2 measures 14 5 inches merrymakers'"
      ]
     },
     "execution_count": 13,
     "metadata": {},
     "output_type": "execute_result"
    }
   ],
   "source": [
    "X[0]"
   ]
  },
  {
   "cell_type": "markdown",
   "id": "580dd18e",
   "metadata": {},
   "source": [
    "# Doc2Vec and logistic regression"
   ]
  },
  {
   "cell_type": "code",
   "execution_count": null,
   "id": "73316c05",
   "metadata": {},
   "outputs": [],
   "source": []
  }
 ],
 "metadata": {
  "kernelspec": {
   "display_name": "Python 3",
   "language": "python",
   "name": "python3"
  },
  "language_info": {
   "codemirror_mode": {
    "name": "ipython",
    "version": 3
   },
   "file_extension": ".py",
   "mimetype": "text/x-python",
   "name": "python",
   "nbconvert_exporter": "python",
   "pygments_lexer": "ipython3",
   "version": "3.8.10"
  }
 },
 "nbformat": 4,
 "nbformat_minor": 5
}

{
  "nbformat": 4,
  "nbformat_minor": 0,
  "metadata": {
    "colab": {
      "name": "product browse node classifier.ipynb",
      "provenance": [],
      "collapsed_sections": []
    },
    "kernelspec": {
      "name": "python3",
      "display_name": "Python 3"
    },
    "language_info": {
      "name": "python"
    }
  },
  "cells": [
    {
      "cell_type": "code",
      "metadata": {
        "colab": {
          "base_uri": "https://localhost:8080/"
        },
        "id": "EfYOZZzIwSm2",
        "outputId": "a9ccdc31-a9cc-4514-9a07-bcb8ce6bd2dc"
      },
      "source": [
        "# !wget --no-check-certificate \\\n",
        "#   https://s3-ap-southeast-1.amazonaws.com/he-public-data/dataset52a7b21.zip \\\n",
        "#   -O /tmp/product_browse_node.zip\n",
        "  "
      ],
      "execution_count": null,
      "outputs": [
        {
          "output_type": "stream",
          "text": [
            "--2021-07-29 20:08:12--  https://s3-ap-southeast-1.amazonaws.com/he-public-data/dataset52a7b21.zip\n",
            "Resolving s3-ap-southeast-1.amazonaws.com (s3-ap-southeast-1.amazonaws.com)... 52.219.128.126\n",
            "Connecting to s3-ap-southeast-1.amazonaws.com (s3-ap-southeast-1.amazonaws.com)|52.219.128.126|:443... connected.\n",
            "HTTP request sent, awaiting response... 200 OK\n",
            "Length: 1061576029 (1012M) [binary/octet-stream]\n",
            "Saving to: ‘/tmp/product_browse_node.zip’\n",
            "\n",
            "/product_browse_nod  66%[============>       ] 671.61M  12.4MB/s    eta 30s    "
          ],
          "name": "stdout"
        }
      ]
    },
    {
      "cell_type": "code",
      "metadata": {
        "id": "yGO37t3IxCCO",
        "colab": {
          "base_uri": "https://localhost:8080/",
          "height": 375
        },
        "outputId": "507986cc-79b5-4cdd-ab17-78da12b75290"
      },
      "source": [
        "# import os\n",
        "# import zipfile\n",
        "\n",
        "# local_zip = '/tmp/product_browse_node.zip'\n",
        "\n",
        "# zip_ref = zipfile.ZipFile(local_zip, 'r')\n",
        "\n",
        "# zip_ref.extractall('/tmp')\n",
        "# zip_ref.close()"
      ],
      "execution_count": 3,
      "outputs": [
        {
          "output_type": "error",
          "ename": "BadZipFile",
          "evalue": "ignored",
          "traceback": [
            "\u001b[0;31m---------------------------------------------------------------------------\u001b[0m",
            "\u001b[0;31mBadZipFile\u001b[0m                                Traceback (most recent call last)",
            "\u001b[0;32m<ipython-input-3-47443c8367c7>\u001b[0m in \u001b[0;36m<module>\u001b[0;34m()\u001b[0m\n\u001b[1;32m      4\u001b[0m \u001b[0mlocal_zip\u001b[0m \u001b[0;34m=\u001b[0m \u001b[0;34m'/tmp/product_browse_node.zip'\u001b[0m\u001b[0;34m\u001b[0m\u001b[0;34m\u001b[0m\u001b[0m\n\u001b[1;32m      5\u001b[0m \u001b[0;34m\u001b[0m\u001b[0m\n\u001b[0;32m----> 6\u001b[0;31m \u001b[0mzip_ref\u001b[0m \u001b[0;34m=\u001b[0m \u001b[0mzipfile\u001b[0m\u001b[0;34m.\u001b[0m\u001b[0mZipFile\u001b[0m\u001b[0;34m(\u001b[0m\u001b[0mlocal_zip\u001b[0m\u001b[0;34m,\u001b[0m \u001b[0;34m'r'\u001b[0m\u001b[0;34m)\u001b[0m\u001b[0;34m\u001b[0m\u001b[0;34m\u001b[0m\u001b[0m\n\u001b[0m\u001b[1;32m      7\u001b[0m \u001b[0;34m\u001b[0m\u001b[0m\n\u001b[1;32m      8\u001b[0m \u001b[0mzip_ref\u001b[0m\u001b[0;34m.\u001b[0m\u001b[0mextractall\u001b[0m\u001b[0;34m(\u001b[0m\u001b[0;34m'/tmp'\u001b[0m\u001b[0;34m)\u001b[0m\u001b[0;34m\u001b[0m\u001b[0;34m\u001b[0m\u001b[0m\n",
            "\u001b[0;32m/usr/lib/python3.7/zipfile.py\u001b[0m in \u001b[0;36m__init__\u001b[0;34m(self, file, mode, compression, allowZip64, compresslevel)\u001b[0m\n\u001b[1;32m   1256\u001b[0m         \u001b[0;32mtry\u001b[0m\u001b[0;34m:\u001b[0m\u001b[0;34m\u001b[0m\u001b[0;34m\u001b[0m\u001b[0m\n\u001b[1;32m   1257\u001b[0m             \u001b[0;32mif\u001b[0m \u001b[0mmode\u001b[0m \u001b[0;34m==\u001b[0m \u001b[0;34m'r'\u001b[0m\u001b[0;34m:\u001b[0m\u001b[0;34m\u001b[0m\u001b[0;34m\u001b[0m\u001b[0m\n\u001b[0;32m-> 1258\u001b[0;31m                 \u001b[0mself\u001b[0m\u001b[0;34m.\u001b[0m\u001b[0m_RealGetContents\u001b[0m\u001b[0;34m(\u001b[0m\u001b[0;34m)\u001b[0m\u001b[0;34m\u001b[0m\u001b[0;34m\u001b[0m\u001b[0m\n\u001b[0m\u001b[1;32m   1259\u001b[0m             \u001b[0;32melif\u001b[0m \u001b[0mmode\u001b[0m \u001b[0;32min\u001b[0m \u001b[0;34m(\u001b[0m\u001b[0;34m'w'\u001b[0m\u001b[0;34m,\u001b[0m \u001b[0;34m'x'\u001b[0m\u001b[0;34m)\u001b[0m\u001b[0;34m:\u001b[0m\u001b[0;34m\u001b[0m\u001b[0;34m\u001b[0m\u001b[0m\n\u001b[1;32m   1260\u001b[0m                 \u001b[0;31m# set the modified flag so central directory gets written\u001b[0m\u001b[0;34m\u001b[0m\u001b[0;34m\u001b[0m\u001b[0;34m\u001b[0m\u001b[0m\n",
            "\u001b[0;32m/usr/lib/python3.7/zipfile.py\u001b[0m in \u001b[0;36m_RealGetContents\u001b[0;34m(self)\u001b[0m\n\u001b[1;32m   1323\u001b[0m             \u001b[0;32mraise\u001b[0m \u001b[0mBadZipFile\u001b[0m\u001b[0;34m(\u001b[0m\u001b[0;34m\"File is not a zip file\"\u001b[0m\u001b[0;34m)\u001b[0m\u001b[0;34m\u001b[0m\u001b[0;34m\u001b[0m\u001b[0m\n\u001b[1;32m   1324\u001b[0m         \u001b[0;32mif\u001b[0m \u001b[0;32mnot\u001b[0m \u001b[0mendrec\u001b[0m\u001b[0;34m:\u001b[0m\u001b[0;34m\u001b[0m\u001b[0;34m\u001b[0m\u001b[0m\n\u001b[0;32m-> 1325\u001b[0;31m             \u001b[0;32mraise\u001b[0m \u001b[0mBadZipFile\u001b[0m\u001b[0;34m(\u001b[0m\u001b[0;34m\"File is not a zip file\"\u001b[0m\u001b[0;34m)\u001b[0m\u001b[0;34m\u001b[0m\u001b[0;34m\u001b[0m\u001b[0m\n\u001b[0m\u001b[1;32m   1326\u001b[0m         \u001b[0;32mif\u001b[0m \u001b[0mself\u001b[0m\u001b[0;34m.\u001b[0m\u001b[0mdebug\u001b[0m \u001b[0;34m>\u001b[0m \u001b[0;36m1\u001b[0m\u001b[0;34m:\u001b[0m\u001b[0;34m\u001b[0m\u001b[0;34m\u001b[0m\u001b[0m\n\u001b[1;32m   1327\u001b[0m             \u001b[0mprint\u001b[0m\u001b[0;34m(\u001b[0m\u001b[0mendrec\u001b[0m\u001b[0;34m)\u001b[0m\u001b[0;34m\u001b[0m\u001b[0;34m\u001b[0m\u001b[0m\n",
            "\u001b[0;31mBadZipFile\u001b[0m: File is not a zip file"
          ]
        }
      ]
    },
    {
      "cell_type": "code",
      "metadata": {
        "colab": {
          "base_uri": "https://localhost:8080/",
          "height": 419
        },
        "id": "IWs-n6RoxYK1",
        "outputId": "5184f9e0-449d-4314-ff91-43f966dc9ef1"
      },
      "source": [
        "import pandas as pd\n",
        "import tensorflow as tf\n",
        "import numpy as np\n",
        "\n",
        "df1 = pd.read_csv(\"/tmp/dataset/train.csv\", quoting=3, escapechar=\"\\\\\")\n",
        "df1\n",
        "\n"
      ],
      "execution_count": 4,
      "outputs": [
        {
          "output_type": "execute_result",
          "data": {
            "text/html": [
              "<div>\n",
              "<style scoped>\n",
              "    .dataframe tbody tr th:only-of-type {\n",
              "        vertical-align: middle;\n",
              "    }\n",
              "\n",
              "    .dataframe tbody tr th {\n",
              "        vertical-align: top;\n",
              "    }\n",
              "\n",
              "    .dataframe thead th {\n",
              "        text-align: right;\n",
              "    }\n",
              "</style>\n",
              "<table border=\"1\" class=\"dataframe\">\n",
              "  <thead>\n",
              "    <tr style=\"text-align: right;\">\n",
              "      <th></th>\n",
              "      <th>TITLE</th>\n",
              "      <th>DESCRIPTION</th>\n",
              "      <th>BULLET_POINTS</th>\n",
              "      <th>BRAND</th>\n",
              "      <th>BROWSE_NODE_ID</th>\n",
              "    </tr>\n",
              "  </thead>\n",
              "  <tbody>\n",
              "    <tr>\n",
              "      <th>0</th>\n",
              "      <td>Pete The Cat Bedtime Blues Doll, 14.5 Inch</td>\n",
              "      <td>Pete the Cat is the coolest, most popular cat ...</td>\n",
              "      <td>[Pete the Cat Bedtime Blues plush doll,Based o...</td>\n",
              "      <td>MerryMakers</td>\n",
              "      <td>0</td>\n",
              "    </tr>\n",
              "    <tr>\n",
              "      <th>1</th>\n",
              "      <td>The New Yorker NYHM014 Refrigerator Magnet, 2 ...</td>\n",
              "      <td>The New Yorker Handsome Cello Wrapped Hard Mag...</td>\n",
              "      <td>[Cat In A Tea Cup by New Yorker cover artist G...</td>\n",
              "      <td>The New Yorker</td>\n",
              "      <td>1</td>\n",
              "    </tr>\n",
              "    <tr>\n",
              "      <th>2</th>\n",
              "      <td>The Ultimate Self-Sufficiency Handbook: A Comp...</td>\n",
              "      <td>NaN</td>\n",
              "      <td>Skyhorse Publishing</td>\n",
              "      <td>imusti</td>\n",
              "      <td>2</td>\n",
              "    </tr>\n",
              "    <tr>\n",
              "      <th>3</th>\n",
              "      <td>Amway Nutrilite Kids Chewable Iron Tablets (100)</td>\n",
              "      <td>NaN</td>\n",
              "      <td>[Nutrilite Kids,Chewable Iron Tablets,Quantity...</td>\n",
              "      <td>Amway</td>\n",
              "      <td>3</td>\n",
              "    </tr>\n",
              "    <tr>\n",
              "      <th>4</th>\n",
              "      <td>Teacher Planner Company A4 6 Lesson Academic T...</td>\n",
              "      <td>NaN</td>\n",
              "      <td>NaN</td>\n",
              "      <td>NaN</td>\n",
              "      <td>4</td>\n",
              "    </tr>\n",
              "    <tr>\n",
              "      <th>...</th>\n",
              "      <td>...</td>\n",
              "      <td>...</td>\n",
              "      <td>...</td>\n",
              "      <td>...</td>\n",
              "      <td>...</td>\n",
              "    </tr>\n",
              "    <tr>\n",
              "      <th>2903019</th>\n",
              "      <td>Premium Aviator Sunglasses - HD Polarized (Bri...</td>\n",
              "      <td>These premium Aviator Sunglasses with 5 color ...</td>\n",
              "      <td>[Frame size: Lens height - 56mm, Lens width - ...</td>\n",
              "      <td>Generic</td>\n",
              "      <td>1040</td>\n",
              "    </tr>\n",
              "    <tr>\n",
              "      <th>2903020</th>\n",
              "      <td>Social Distance Stickers - Set of 5 Sticker Sl...</td>\n",
              "      <td>set of 5 prints social distancing sticker self...</td>\n",
              "      <td>[covid19 safety sticker - set of 5 to maintain...</td>\n",
              "      <td>Generic</td>\n",
              "      <td>15199</td>\n",
              "    </tr>\n",
              "    <tr>\n",
              "      <th>2903021</th>\n",
              "      <td>Torr-to Face Shield PACK OF 5 with Adjustable ...</td>\n",
              "      <td>* COMPLETE FACE PROTECTION: Torr-to Face Shiel...</td>\n",
              "      <td>[350 MICRONS PACK OF 5 PCS,COMPLETE FACE PROTE...</td>\n",
              "      <td>TORR-TO</td>\n",
              "      <td>1044933</td>\n",
              "    </tr>\n",
              "    <tr>\n",
              "      <th>2903022</th>\n",
              "      <td>Type-C to 3.5 MM for Oppo R17 Pro Type-C to 3....</td>\n",
              "      <td>Still want to use your favorite earphones/head...</td>\n",
              "      <td>[Indian Connectors: Made for Indian sockets, t...</td>\n",
              "      <td>SHOPBELL</td>\n",
              "      <td>14790</td>\n",
              "    </tr>\n",
              "    <tr>\n",
              "      <th>2903023</th>\n",
              "      <td>KNG Orange Polo Tshirt (38)</td>\n",
              "      <td>Performance inspired by comfort. The polo shir...</td>\n",
              "      <td>NaN</td>\n",
              "      <td>KNG</td>\n",
              "      <td>1213</td>\n",
              "    </tr>\n",
              "  </tbody>\n",
              "</table>\n",
              "<p>2903024 rows × 5 columns</p>\n",
              "</div>"
            ],
            "text/plain": [
              "                                                     TITLE  ... BROWSE_NODE_ID\n",
              "0               Pete The Cat Bedtime Blues Doll, 14.5 Inch  ...              0\n",
              "1        The New Yorker NYHM014 Refrigerator Magnet, 2 ...  ...              1\n",
              "2        The Ultimate Self-Sufficiency Handbook: A Comp...  ...              2\n",
              "3         Amway Nutrilite Kids Chewable Iron Tablets (100)  ...              3\n",
              "4        Teacher Planner Company A4 6 Lesson Academic T...  ...              4\n",
              "...                                                    ...  ...            ...\n",
              "2903019  Premium Aviator Sunglasses - HD Polarized (Bri...  ...           1040\n",
              "2903020  Social Distance Stickers - Set of 5 Sticker Sl...  ...          15199\n",
              "2903021  Torr-to Face Shield PACK OF 5 with Adjustable ...  ...        1044933\n",
              "2903022  Type-C to 3.5 MM for Oppo R17 Pro Type-C to 3....  ...          14790\n",
              "2903023                        KNG Orange Polo Tshirt (38)  ...           1213\n",
              "\n",
              "[2903024 rows x 5 columns]"
            ]
          },
          "metadata": {
            "tags": []
          },
          "execution_count": 4
        }
      ]
    },
    {
      "cell_type": "code",
      "metadata": {
        "id": "z1NUEdul4SnA",
        "colab": {
          "base_uri": "https://localhost:8080/",
          "height": 419
        },
        "outputId": "eab36bcf-481a-4767-fa7f-329c0de75e26"
      },
      "source": [
        "df2 = pd.read_csv(\"/tmp/dataset/test.csv\", quoting=3, escapechar=\"\\\\\")\n",
        "df2\n"
      ],
      "execution_count": 5,
      "outputs": [
        {
          "output_type": "execute_result",
          "data": {
            "text/html": [
              "<div>\n",
              "<style scoped>\n",
              "    .dataframe tbody tr th:only-of-type {\n",
              "        vertical-align: middle;\n",
              "    }\n",
              "\n",
              "    .dataframe tbody tr th {\n",
              "        vertical-align: top;\n",
              "    }\n",
              "\n",
              "    .dataframe thead th {\n",
              "        text-align: right;\n",
              "    }\n",
              "</style>\n",
              "<table border=\"1\" class=\"dataframe\">\n",
              "  <thead>\n",
              "    <tr style=\"text-align: right;\">\n",
              "      <th></th>\n",
              "      <th>PRODUCT_ID</th>\n",
              "      <th>TITLE</th>\n",
              "      <th>DESCRIPTION</th>\n",
              "      <th>BULLET_POINTS</th>\n",
              "      <th>BRAND</th>\n",
              "    </tr>\n",
              "  </thead>\n",
              "  <tbody>\n",
              "    <tr>\n",
              "      <th>0</th>\n",
              "      <td>1</td>\n",
              "      <td>Command 3M Small Kitchen Hooks, White, Decorat...</td>\n",
              "      <td>Sale Unit: PACK</td>\n",
              "      <td>[INCLUDES - 9 hooks and 12 small indoor strips...</td>\n",
              "      <td>Command</td>\n",
              "    </tr>\n",
              "    <tr>\n",
              "      <th>1</th>\n",
              "      <td>2</td>\n",
              "      <td>O'Neal Jump Hardware JAG Unisex-Adult Glove (B...</td>\n",
              "      <td>Synthetic leather palm with double-layer thumb...</td>\n",
              "      <td>[Silicone printing for a better grip. Long las...</td>\n",
              "      <td>O'Neal</td>\n",
              "    </tr>\n",
              "    <tr>\n",
              "      <th>2</th>\n",
              "      <td>3</td>\n",
              "      <td>NFL Detroit Lions Portable Party Fridge, 15.8 ...</td>\n",
              "      <td>Boelter Brands lets you celebrate your favorit...</td>\n",
              "      <td>[Runs on 12 Volt DC Power or 110 Volt AC Power...</td>\n",
              "      <td>Boelter Brands</td>\n",
              "    </tr>\n",
              "    <tr>\n",
              "      <th>3</th>\n",
              "      <td>4</td>\n",
              "      <td>Panasonic Single Line KX-TS880MX Corded Phone ...</td>\n",
              "      <td>Features: 50 Station Phonebook Corded Phone Al...</td>\n",
              "      <td>Panasonic Landline Phones doesn't come with a ...</td>\n",
              "      <td>Panasonic</td>\n",
              "    </tr>\n",
              "    <tr>\n",
              "      <th>4</th>\n",
              "      <td>5</td>\n",
              "      <td>Zero Baby Girl's 100% Cotton Innerwear Bloomer...</td>\n",
              "      <td>Zero Baby Girl Panties Set. 100% Cotton, Breat...</td>\n",
              "      <td>[Zero Baby Girl Panties, Pack of 6, 100% Cotto...</td>\n",
              "      <td>Zero</td>\n",
              "    </tr>\n",
              "    <tr>\n",
              "      <th>...</th>\n",
              "      <td>...</td>\n",
              "      <td>...</td>\n",
              "      <td>...</td>\n",
              "      <td>...</td>\n",
              "      <td>...</td>\n",
              "    </tr>\n",
              "    <tr>\n",
              "      <th>110770</th>\n",
              "      <td>110771</td>\n",
              "      <td>AAHNA E MALL OneBlade Hybrid Trimmer Shaver An...</td>\n",
              "      <td>&lt;p&gt;1-All In One Hyper Advanced Smart Rechargea...</td>\n",
              "      <td>[Unique One Blade can style, trim and shave, w...</td>\n",
              "      <td>Generic</td>\n",
              "    </tr>\n",
              "    <tr>\n",
              "      <th>110771</th>\n",
              "      <td>110772</td>\n",
              "      <td>Grin Health N99 Anti Pollution Reusable Washab...</td>\n",
              "      <td>&lt;p&gt;SIZE GUIDE : M - (35- 65 Kg), L - (49- 72 K...</td>\n",
              "      <td>[PROTECTION: Filtration rate up to ≥99 percent...</td>\n",
              "      <td>Grin Health</td>\n",
              "    </tr>\n",
              "    <tr>\n",
              "      <th>110772</th>\n",
              "      <td>110773</td>\n",
              "      <td>Asian Army Pink Ultra reusable respirator clot...</td>\n",
              "      <td>Asian HyperProtect A95 masks have been enginee...</td>\n",
              "      <td>[Reusable and environment friendly: These mask...</td>\n",
              "      <td>ASIAN</td>\n",
              "    </tr>\n",
              "    <tr>\n",
              "      <th>110773</th>\n",
              "      <td>110774</td>\n",
              "      <td>IM Safe 3 Ply Non-Woven Disposable Surgical Fa...</td>\n",
              "      <td>This 3 Ply Disposable face mask is manufacture...</td>\n",
              "      <td>[3 Ply Mask: Genuine 3 Ply Mask. 25 GSM Spun B...</td>\n",
              "      <td>Intermarket</td>\n",
              "    </tr>\n",
              "    <tr>\n",
              "      <th>110774</th>\n",
              "      <td>110775</td>\n",
              "      <td>Artifie 100% Cotton Unisex Reusable Breathable...</td>\n",
              "      <td>Material : Cotton Printed, cotton thread, Soft...</td>\n",
              "      <td>[Eco Friendly, Reusable Cotton Masks for Face ...</td>\n",
              "      <td>Artifie</td>\n",
              "    </tr>\n",
              "  </tbody>\n",
              "</table>\n",
              "<p>110775 rows × 5 columns</p>\n",
              "</div>"
            ],
            "text/plain": [
              "        PRODUCT_ID  ...           BRAND\n",
              "0                1  ...         Command\n",
              "1                2  ...          O'Neal\n",
              "2                3  ...  Boelter Brands\n",
              "3                4  ...       Panasonic\n",
              "4                5  ...            Zero\n",
              "...            ...  ...             ...\n",
              "110770      110771  ...         Generic\n",
              "110771      110772  ...     Grin Health\n",
              "110772      110773  ...           ASIAN\n",
              "110773      110774  ...     Intermarket\n",
              "110774      110775  ...         Artifie\n",
              "\n",
              "[110775 rows x 5 columns]"
            ]
          },
          "metadata": {
            "tags": []
          },
          "execution_count": 5
        }
      ]
    },
    {
      "cell_type": "code",
      "metadata": {
        "colab": {
          "base_uri": "https://localhost:8080/",
          "height": 425
        },
        "id": "Q1jIonJg6JwG",
        "outputId": "090618eb-9e0c-470e-f537-fe846c56f405"
      },
      "source": [
        "pd.set_option('display.max_colwidth',None)\n",
        "df1.head()"
      ],
      "execution_count": 10,
      "outputs": [
        {
          "output_type": "execute_result",
          "data": {
            "text/html": [
              "<div>\n",
              "<style scoped>\n",
              "    .dataframe tbody tr th:only-of-type {\n",
              "        vertical-align: middle;\n",
              "    }\n",
              "\n",
              "    .dataframe tbody tr th {\n",
              "        vertical-align: top;\n",
              "    }\n",
              "\n",
              "    .dataframe thead th {\n",
              "        text-align: right;\n",
              "    }\n",
              "</style>\n",
              "<table border=\"1\" class=\"dataframe\">\n",
              "  <thead>\n",
              "    <tr style=\"text-align: right;\">\n",
              "      <th></th>\n",
              "      <th>TITLE</th>\n",
              "      <th>DESCRIPTION</th>\n",
              "      <th>BULLET_POINTS</th>\n",
              "      <th>BRAND</th>\n",
              "      <th>BROWSE_NODE_ID</th>\n",
              "    </tr>\n",
              "  </thead>\n",
              "  <tbody>\n",
              "    <tr>\n",
              "      <th>0</th>\n",
              "      <td>Pete The Cat Bedtime Blues Doll, 14.5 Inch</td>\n",
              "      <td>Pete the Cat is the coolest, most popular cat in town. The new Pete the Cat Bedtime Blues Doll from MerryMakers rocks his striped pj's and red slippers. He is one sleepy cat and is ready to cuddle. Measures 14.5 inches tall. Safe for all ages. Removable clothing. Surface wash only. New 2015</td>\n",
              "      <td>[Pete the Cat Bedtime Blues plush doll,Based on the popular Pete the Cat books by James Dean,Super cuddly and ready for naptime and bedtime,Safe for all ages, perfect for ages 2 and up,Measures 14. 5 inches]</td>\n",
              "      <td>MerryMakers</td>\n",
              "      <td>0</td>\n",
              "    </tr>\n",
              "    <tr>\n",
              "      <th>1</th>\n",
              "      <td>The New Yorker NYHM014 Refrigerator Magnet, 2 x 3.5</td>\n",
              "      <td>The New Yorker Handsome Cello Wrapped Hard Magnet measures 2.5-Inch width by 3.5-Inch height and highlight one of the many beautiful New Yorker covers in full color. Cat In A Tea Cup by New Yorker cover artist Gurbuz Dogan Eksioglu</td>\n",
              "      <td>[Cat In A Tea Cup by New Yorker cover artist Gurbuz Dogan Eksioglu,Handsome cello wrapped hard magnet,Ideal for home or office, or for a gift and for any New Yorker magazine lover,It highlight one of the many beautiful New Yorker covers in full color,Rigid magnet measures 2. 5-Inch width by 3. 5-Inch height]</td>\n",
              "      <td>The New Yorker</td>\n",
              "      <td>1</td>\n",
              "    </tr>\n",
              "    <tr>\n",
              "      <th>2</th>\n",
              "      <td>The Ultimate Self-Sufficiency Handbook: A Complete Guide to Baking, Crafts, Gardening, Preserving Your Harvest, Raising Animals and More</td>\n",
              "      <td>NaN</td>\n",
              "      <td>Skyhorse Publishing</td>\n",
              "      <td>imusti</td>\n",
              "      <td>2</td>\n",
              "    </tr>\n",
              "    <tr>\n",
              "      <th>3</th>\n",
              "      <td>Amway Nutrilite Kids Chewable Iron Tablets (100)</td>\n",
              "      <td>NaN</td>\n",
              "      <td>[Nutrilite Kids,Chewable Iron Tablets,Quantity 100 tablets]</td>\n",
              "      <td>Amway</td>\n",
              "      <td>3</td>\n",
              "    </tr>\n",
              "    <tr>\n",
              "      <th>4</th>\n",
              "      <td>Teacher Planner Company A4 6 Lesson Academic Teacher Planner - Leatherette Pink</td>\n",
              "      <td>NaN</td>\n",
              "      <td>NaN</td>\n",
              "      <td>NaN</td>\n",
              "      <td>4</td>\n",
              "    </tr>\n",
              "  </tbody>\n",
              "</table>\n",
              "</div>"
            ],
            "text/plain": [
              "                                                                                                                                      TITLE  ... BROWSE_NODE_ID\n",
              "0                                                                                                Pete The Cat Bedtime Blues Doll, 14.5 Inch  ...              0\n",
              "1                                                                                       The New Yorker NYHM014 Refrigerator Magnet, 2 x 3.5  ...              1\n",
              "2  The Ultimate Self-Sufficiency Handbook: A Complete Guide to Baking, Crafts, Gardening, Preserving Your Harvest, Raising Animals and More  ...              2\n",
              "3                                                                                          Amway Nutrilite Kids Chewable Iron Tablets (100)  ...              3\n",
              "4                                                           Teacher Planner Company A4 6 Lesson Academic Teacher Planner - Leatherette Pink  ...              4\n",
              "\n",
              "[5 rows x 5 columns]"
            ]
          },
          "metadata": {
            "tags": []
          },
          "execution_count": 10
        }
      ]
    },
    {
      "cell_type": "code",
      "metadata": {
        "colab": {
          "base_uri": "https://localhost:8080/"
        },
        "id": "KNd3d9OZ8pY0",
        "outputId": "a04d097f-7acb-401f-99b4-428bd73184ab"
      },
      "source": [
        "print(df1.shape)\n",
        "df2.shape"
      ],
      "execution_count": 14,
      "outputs": [
        {
          "output_type": "stream",
          "text": [
            "(2903024, 5)\n"
          ],
          "name": "stdout"
        },
        {
          "output_type": "execute_result",
          "data": {
            "text/plain": [
              "(110775, 5)"
            ]
          },
          "metadata": {
            "tags": []
          },
          "execution_count": 14
        }
      ]
    },
    {
      "cell_type": "markdown",
      "metadata": {
        "id": "yPCh60-8AwEH"
      },
      "source": [
        "#data analysis\n",
        "- count everything the data"
      ]
    },
    {
      "cell_type": "code",
      "metadata": {
        "colab": {
          "base_uri": "https://localhost:8080/"
        },
        "id": "nt2R8Zn084Me",
        "outputId": "19f29122-d2bb-4cbd-f039-134be17c943c"
      },
      "source": [
        "df1[\"BROWSE_NODE_ID\"].max()"
      ],
      "execution_count": 18,
      "outputs": [
        {
          "output_type": "execute_result",
          "data": {
            "text/plain": [
              "2893574"
            ]
          },
          "metadata": {
            "tags": []
          },
          "execution_count": 18
        }
      ]
    },
    {
      "cell_type": "code",
      "metadata": {
        "colab": {
          "base_uri": "https://localhost:8080/",
          "height": 1000
        },
        "id": "7XlhAhA3BZtQ",
        "outputId": "3f44f34f-5de6-4ceb-d511-cf9dec332e9c"
      },
      "source": [
        "df1.sort_values(by='BROWSE_NODE_ID').head(100)"
      ],
      "execution_count": 25,
      "outputs": [
        {
          "output_type": "execute_result",
          "data": {
            "text/html": [
              "<div>\n",
              "<style scoped>\n",
              "    .dataframe tbody tr th:only-of-type {\n",
              "        vertical-align: middle;\n",
              "    }\n",
              "\n",
              "    .dataframe tbody tr th {\n",
              "        vertical-align: top;\n",
              "    }\n",
              "\n",
              "    .dataframe thead th {\n",
              "        text-align: right;\n",
              "    }\n",
              "</style>\n",
              "<table border=\"1\" class=\"dataframe\">\n",
              "  <thead>\n",
              "    <tr style=\"text-align: right;\">\n",
              "      <th></th>\n",
              "      <th>TITLE</th>\n",
              "      <th>DESCRIPTION</th>\n",
              "      <th>BULLET_POINTS</th>\n",
              "      <th>BRAND</th>\n",
              "      <th>BROWSE_NODE_ID</th>\n",
              "    </tr>\n",
              "  </thead>\n",
              "  <tbody>\n",
              "    <tr>\n",
              "      <th>0</th>\n",
              "      <td>Pete The Cat Bedtime Blues Doll, 14.5 Inch</td>\n",
              "      <td>Pete the Cat is the coolest, most popular cat in town. The new Pete the Cat Bedtime Blues Doll from MerryMakers rocks his striped pj's and red slippers. He is one sleepy cat and is ready to cuddle. Measures 14.5 inches tall. Safe for all ages. Removable clothing. Surface wash only. New 2015</td>\n",
              "      <td>[Pete the Cat Bedtime Blues plush doll,Based on the popular Pete the Cat books by James Dean,Super cuddly and ready for naptime and bedtime,Safe for all ages, perfect for ages 2 and up,Measures 14. 5 inches]</td>\n",
              "      <td>MerryMakers</td>\n",
              "      <td>0</td>\n",
              "    </tr>\n",
              "    <tr>\n",
              "      <th>1773215</th>\n",
              "      <td>Barbie Chelsea Assortment 2, Multi Color</td>\n",
              "      <td>NaN</td>\n",
              "      <td>[Chelsea doll and her friends can play out so many fun stories,Fit them on to the doll’s hand to add realism to your stories, choose from popular themes like swimming, flowers, ice cream, butterflies, kites, movies and snacks,Added diversity and more variety in looks and hairstyles provide infinitely more ways to spark imaginations and play out unlimited stories]</td>\n",
              "      <td>Barbie</td>\n",
              "      <td>0</td>\n",
              "    </tr>\n",
              "    <tr>\n",
              "      <th>1694581</th>\n",
              "      <td>ELECTROPRIME Realistic Vinyl Baby Girl Doll Lifelike Singing Walking Doll Toy Child Gift</td>\n",
              "      <td>ELECTROPRIME Realistic Vinyl Baby Girl Doll Lifelike Singing Walking Doll Toy Child Gift</td>\n",
              "      <td>[Condition- New,Package includes- 1 pcs only,For color &amp; size pls contact us]</td>\n",
              "      <td>ELECTROPRIME</td>\n",
              "      <td>0</td>\n",
              "    </tr>\n",
              "    <tr>\n",
              "      <th>2294866</th>\n",
              "      <td>Manhattan Toy Groovy Girls Style Scents Lilly and Parfait Fashion Doll</td>\n",
              "      <td>Style Scents are what these Groovy Girls and their adorable sidekicks are all about! Each doll has a spectacular scent and fab fashion! Manhattan Toy has partnered with Celessence brand technologies, an innovative microencapsulation delivery system, to bring fragrances to each doll that is fruitylicious and fantastic. Lilly here, is raspberry scented. Groovy Girls, by Manhattan Toy, is an award-winning soft doll and accessory collection that is fashionable, diverse and represents the individuality of each and every girl. Since 1979, Manhattan Toy has been making award-winning, high quality, educational toys for your baby, toddler or kid. From incredibly soft plush toys to baby dolls and doll accessories, our goal is to provide the safest and best toys available. All of our products, from the newest concepts to our time-tested classics, are innovatively designed to inspire imaginative play and are routinely safety tested to pass strict CPSC, ASTM, EN71 and Health Canada safety standards.</td>\n",
              "      <td>[From Manhattan Toy's multiple award-winning Groovy Girls collection of soft fashion dolls and accessories,The Groovy Girls doll collection encourages young girls to celebrate their own unique qualities,Soft-bodied doll features Celessence brand technologies, an innovative microencapsulation delivery system,Gentle hugging action releases a raspberry scent from fashion doll,Every Groovy Girls doll can be accessorized with fashion, dollhouse style furnishings, and more. Lilly &amp; Parfait is a 13\" soft doll playset that inspires fun and creative play in your young child]</td>\n",
              "      <td>Manhattan Toy</td>\n",
              "      <td>0</td>\n",
              "    </tr>\n",
              "    <tr>\n",
              "      <th>1469000</th>\n",
              "      <td>ZWSISU 7 Outfits American Girl Doll Clothes Accessories (18 Inch) - Set of 9</td>\n",
              "      <td>NaN</td>\n",
              "      <td>NaN</td>\n",
              "      <td>NaN</td>\n",
              "      <td>0</td>\n",
              "    </tr>\n",
              "    <tr>\n",
              "      <th>...</th>\n",
              "      <td>...</td>\n",
              "      <td>...</td>\n",
              "      <td>...</td>\n",
              "      <td>...</td>\n",
              "      <td>...</td>\n",
              "    </tr>\n",
              "    <tr>\n",
              "      <th>2389064</th>\n",
              "      <td>AKD06 Direct 14pcs Kids Portable Toolbox Toy Simulation Disassembly Repair Tool Set</td>\n",
              "      <td>14pcs Children Kids Portable Toolbox Toy Simulation Screwdriver Disassembly Repair Tool Set Pretend Play Toys&lt;br&gt; &lt;br&gt;&lt;b&gt;Description:&lt;/b&gt;&lt;br&gt; The play house is prevalent among children, and it also allows the children to try the majesty of being an adult. This game has played a positive role in the socialization of children. In the game, the inheritance of society and culture is subtle. In addition, you can develop your child's understanding of life roles and communication skills with others.&lt;br&gt; &lt;br&gt;&lt;b&gt;Specifications:&lt;/b&gt;&lt;br&gt; Material: Environmental protection ABS&lt;br&gt; Color: as shown&lt;br&gt; Size: 23*16*10CM/9.06*6.3*3.94\"&lt;br&gt; Suitable age: 3 years old or older&lt;br&gt; &lt;br&gt;&lt;b&gt;Specifications:&lt;/b&gt; 14pcs/set&lt;br&gt; &lt;br&gt;&lt;b&gt;Notes:&lt;/b&gt;&lt;br&gt; 1. Due to the different monitor and light effect, the actual color of the item might be slightly different from the color showed on the pictures. 2. Please allow 1-3cm measuring deviation due to manual measurement.&lt;br&gt;&lt;br&gt;&lt;b&gt;Package included:&lt;/b&gt;&lt;br&gt;1 Set X Portable Toolbox Toy (14pcs)&lt;br&gt;</td>\n",
              "      <td>[Material: Environmental protection ABS,Size: 23*16*10CM/9.06*6.3*3.94\",Suitable age: 3 years old or older,14pcs/set,Package included:1 Set X Portable Toolbox Toy (14pcs)]</td>\n",
              "      <td>AKD06 Direct</td>\n",
              "      <td>0</td>\n",
              "    </tr>\n",
              "    <tr>\n",
              "      <th>1024479</th>\n",
              "      <td>Brand Conquer Dancing Fairy Princes Angel Girl Robot with Lights and Music/ Angel Girl Dancing Doll Robot Music Baby Toy 360 Rotational 3D LED Lights for Birthday Gift for Kids Children</td>\n",
              "      <td>&lt;br&gt;&lt;b&gt;This is a 3D lightning effect princess doll for girls. Musical toy, battery operated which moves on the floor&lt;/b&gt; &lt;br&gt; &lt;br&gt;Little Angel Princess Doll is a very cute baby doll with lightning and music function, made up of good grade plastic, kids will surely love this doll. Bump and Go Action. It moves on the floor and Change direction once stuck with anything. 3D lightning effect will make your child very happy The toy is about 5 inches tall. 3 AA batteries are required (not included) doll for girls dancing doll house with doll for girls tent house for children house kitchen set toys for kids baby alive remote control robot music box baby toys for 1 year kid .&lt;br&gt; &lt;br&gt;</td>\n",
              "      <td>[Battery Operated Musical Princess Toy with 3D Lights,Bump and Go Action. It moves on the floor and Change direction once stuck with anything,3D lightning effect will make your child very happ,The toy is about 5 inches tall. 3 AA batteries are required (not included),Stand and sing mode: The doll will play music with lights rotating on its axis.]</td>\n",
              "      <td>Brand Conquer</td>\n",
              "      <td>0</td>\n",
              "    </tr>\n",
              "    <tr>\n",
              "      <th>1467793</th>\n",
              "      <td>BARBIETM The Pearl Princess 2-in-1 Mermaid Princess Doll</td>\n",
              "      <td>From the all new DVD Barbie The Pearl Princess, Barbie stars as a beautiful mermaid princess with a magical power over pearls. On an exciting journey to the Mermaid Kingdom, she experiences a dramatic transformation into a true princess when she attends the royal ball under the sea. Girls can recreate that thrilling moment with this doll, who changes her look with the press of a button. Her gorgeous pearl necklace hides the mechanism; push, and her outfit transforms from mermaid to mermaid princess. The hard shell tail falls forward to reveal a \"pearl\"-draped tail with a soft, sheer train. To add to the dramatic effect, her hair changes color in water, with pink streaks appearing and disappearing. Keep it long and flowing with the comb tucked into her fin and hidden away. Girls will love playing out scenes and creating new ones for this magical mermaid!</td>\n",
              "      <td>[In new movie Barbie The Pearl Princess, Barbie stars as a beautiful mermaid princess with a magical power over pearls,Recreate her magical transformation from mermaid to mermaid princess with this doll, who changes her look with the press of a button,Her gorgeous pearl necklace hides the mechanism –push and her outfit transforms from mermaid to mermaid princess,To add to the drama, her hair changes color in water,Keep it long and flowing with the comb tucked into her fin and hidden away]</td>\n",
              "      <td>Barbie</td>\n",
              "      <td>0</td>\n",
              "    </tr>\n",
              "    <tr>\n",
              "      <th>306983</th>\n",
              "      <td>Tickles Blue Laughing Baby Stuffed Soft Plush Toy Love Girl 36 cm AT-T680</td>\n",
              "      <td>&lt;b&gt;Product:&lt;/b&gt;&lt;br&gt;Tickles Blue Laughing Baby Stuffed Soft Plush Toy Love Girl 36 cm&lt;br&gt;&lt;br&gt;&lt;b&gt;Dimensions:&lt;/b&gt;&lt;br&gt;36 cm X 11 cm X 5 cm &lt;br&gt;&lt;br&gt;&lt;b&gt;Features:&lt;/b&gt;&lt;br&gt;&lt;li&gt;Light weighted, attractive, colorful, vibrant, soft and easy to carry.&lt;/li&gt;&lt;li&gt;Creates a special memory with your loved ones,Perfect for cuddling and very well made which stands up to lots of loving.&lt;/li&gt;&lt;br&gt;&lt;br&gt;&lt;b&gt;Care Instruction:&lt;/b&gt;&lt;br&gt;&lt;li&gt;Do not bleach or soak.&lt;/li&gt;&lt;li&gt;Do not wash them with the filler.&lt;/li&gt;</td>\n",
              "      <td>[Toys and Games,Soft and Cuddly filling,Huggable and loveable for someone special]</td>\n",
              "      <td>Tickles</td>\n",
              "      <td>0</td>\n",
              "    </tr>\n",
              "    <tr>\n",
              "      <th>2614794</th>\n",
              "      <td>Hearts for Hearts Girls Nahji from India Doll</td>\n",
              "      <td>NaN</td>\n",
              "      <td>[Nahji is the smart and determined girl living in India who dreams of a better life.,She refuses to start work and get married before she is ready. She finally convinces her parents to let her go to school to learn how to read and write.,After learning to read she spends hours studying about how to raise ducks and gardening, to help her family make money and grow their own food.,She then goes to local \"tea clubs\" where Indian women meet, to encourage other girls that they can change their paths as well!,Nahji's accessories include: golden bangle bracelets, a jeweled nose piercing, a hand tattoo inspired by the henna mehndi of India, a hair comb, girl-sized friendship bracelet, and a mini book telling Nahji's story.]</td>\n",
              "      <td>Hearts for Hearts Girls</td>\n",
              "      <td>0</td>\n",
              "    </tr>\n",
              "  </tbody>\n",
              "</table>\n",
              "<p>100 rows × 5 columns</p>\n",
              "</div>"
            ],
            "text/plain": [
              "                                                                                                                                                                                             TITLE  ... BROWSE_NODE_ID\n",
              "0                                                                                                                                                       Pete The Cat Bedtime Blues Doll, 14.5 Inch  ...              0\n",
              "1773215                                                                                                                                                   Barbie Chelsea Assortment 2, Multi Color  ...              0\n",
              "1694581                                                                                                   ELECTROPRIME Realistic Vinyl Baby Girl Doll Lifelike Singing Walking Doll Toy Child Gift  ...              0\n",
              "2294866                                                                                                                     Manhattan Toy Groovy Girls Style Scents Lilly and Parfait Fashion Doll  ...              0\n",
              "1469000                                                                                                               ZWSISU 7 Outfits American Girl Doll Clothes Accessories (18 Inch) - Set of 9  ...              0\n",
              "...                                                                                                                                                                                            ...  ...            ...\n",
              "2389064                                                                                                        AKD06 Direct 14pcs Kids Portable Toolbox Toy Simulation Disassembly Repair Tool Set  ...              0\n",
              "1024479  Brand Conquer Dancing Fairy Princes Angel Girl Robot with Lights and Music/ Angel Girl Dancing Doll Robot Music Baby Toy 360 Rotational 3D LED Lights for Birthday Gift for Kids Children  ...              0\n",
              "1467793                                                                                                                                   BARBIETM The Pearl Princess 2-in-1 Mermaid Princess Doll  ...              0\n",
              "306983                                                                                                                   Tickles Blue Laughing Baby Stuffed Soft Plush Toy Love Girl 36 cm AT-T680  ...              0\n",
              "2614794                                                                                                                                              Hearts for Hearts Girls Nahji from India Doll  ...              0\n",
              "\n",
              "[100 rows x 5 columns]"
            ]
          },
          "metadata": {
            "tags": []
          },
          "execution_count": 25
        }
      ]
    },
    {
      "cell_type": "code",
      "metadata": {
        "id": "qMuJ7levBee3"
      },
      "source": [
        ""
      ],
      "execution_count": null,
      "outputs": []
    },
    {
      "cell_type": "markdown",
      "metadata": {
        "id": "b2mmtdck_fO4"
      },
      "source": [
        "##Data preprocessing :\n",
        "- dividing datasets into three parts train, test(already given), cross-validation(pick from training set)\n",
        "- randomize the dataset before dividing \n",
        "\n",
        "##Data cleaning :\n",
        "- duplicates\n",
        "- NaN\n",
        "- html tags\n",
        "- punctuation\n",
        "- []\n",
        "- cannot remove , in bullet point"
      ]
    },
    {
      "cell_type": "code",
      "metadata": {
        "id": "vznDeFUT81kf"
      },
      "source": [
        ""
      ],
      "execution_count": null,
      "outputs": []
    }
  ]
}
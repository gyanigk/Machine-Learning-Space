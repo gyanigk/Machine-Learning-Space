{
  "nbformat": 4,
  "nbformat_minor": 0,
  "metadata": {
    "colab": {
      "name": "PyTorch Tutorial.ipynb",
      "provenance": [],
      "collapsed_sections": []
    },
    "kernelspec": {
      "name": "python3",
      "display_name": "Python 3"
    },
    "accelerator": "GPU"
  },
  "cells": [
    {
      "cell_type": "markdown",
      "metadata": {
        "id": "mshWSLFyz9Vi"
      },
      "source": [
        "#PyTorch Tutorial (Beginner)"
      ]
    },
    {
      "cell_type": "markdown",
      "metadata": {
        "id": "Al571dUiqiUu"
      },
      "source": [
        "## Prerequisites:\n",
        "This tutorial assumes that you already have atleast beginner level of experience with the things below. \n",
        " - Python ([freeCodeCamp Crash Course](https://www.youtube.com/watch?v=LHBE6Q9XlzI), [Videos by Sentdex](https://www.youtube.com/playlist?list=PLQVvvaa0QuDeAams7fkdcwOGBpGdHpXln))\n",
        " - NumPy ([freeCodeCamp Crash Course](https://www.freecodecamp.org/news/numpy-crash-course-build-powerful-n-d-arrays-with-numpy/) & its corresponding [colab notebook](https://colab.research.google.com/drive/1Oa8J_sZXACQJEiMqANIHkftMgUrqSpVt#scrollTo=ITrCTnT6RkWP))\n",
        "\n"
      ]
    },
    {
      "cell_type": "markdown",
      "metadata": {
        "id": "V9FI7HqDqmuJ"
      },
      "source": [
        "## Installation:\n",
        "Throughout this course, we wont be doing any heavy computations, so its better to stick to Google Colab as every possible library you will need will come pre-installed. \n",
        "\n",
        "If you still wish to try and install it locally, kindly refer to the links below that have some of best the explanations for beginners:\n",
        "- [Pytorch (Official)](https://pytorch.org/get-started/locally/)\n",
        "- [Article by JournalDev (CPU only, Linux/Windows/MacOS)](https://www.journaldev.com/35965/pytorch-installation)\n",
        "- [Article by DeepLizard (A bit old)](https://deeplizard.com/learn/video/UWlFM0R_x6I)\n",
        "\n",
        "Again, if the instructions in the above links look like gibbersh, we strongly recommend you to stick with Google Colab atleast until you get familarized with it."
      ]
    },
    {
      "cell_type": "markdown",
      "metadata": {
        "id": "yoX4l7DxyZIk"
      },
      "source": [
        "## Contents of this tutorial\n",
        "- Parallels between PyTorch and NumPy\n",
        "- How to train a model?\n",
        "- Things to keep in mind\n"
      ]
    },
    {
      "cell_type": "markdown",
      "metadata": {
        "id": "L-S2blgK0R4U"
      },
      "source": [
        "# Parallels between PyTorch and NumPy\n"
      ]
    },
    {
      "cell_type": "code",
      "metadata": {
        "colab": {
          "base_uri": "https://localhost:8080/"
        },
        "id": "fgSkhjqA2oQK",
        "outputId": "720a3d86-e573-4dfe-e8b0-0b45c5c95142"
      },
      "source": [
        "import numpy as np\n",
        "\n",
        "print(\"NumPy\")\n",
        "print(\"===========\")\n",
        "print(np.mean([1.0, 3.0]))\n",
        "print(np.sum([1.0, 3.0]))\n",
        "print(np.exp([1.0, 3.0]))"
      ],
      "execution_count": 1,
      "outputs": [
        {
          "output_type": "stream",
          "text": [
            "NumPy\n",
            "===========\n",
            "2.0\n",
            "4.0\n",
            "[ 2.71828183 20.08553692]\n"
          ],
          "name": "stdout"
        }
      ]
    },
    {
      "cell_type": "code",
      "metadata": {
        "colab": {
          "base_uri": "https://localhost:8080/",
          "height": 198
        },
        "id": "vRhH4C7tc0N3",
        "outputId": "ee18b6f2-a68f-4760-ae1d-5a4e2b9c08d2"
      },
      "source": [
        "import torch\n",
        "\n",
        "print(torch.mean([1.0, 3.0]))"
      ],
      "execution_count": 2,
      "outputs": [
        {
          "output_type": "error",
          "ename": "TypeError",
          "evalue": "ignored",
          "traceback": [
            "\u001b[0;31m---------------------------------------------------------------------------\u001b[0m",
            "\u001b[0;31mTypeError\u001b[0m                                 Traceback (most recent call last)",
            "\u001b[0;32m<ipython-input-2-5e9d255d1873>\u001b[0m in \u001b[0;36m<module>\u001b[0;34m()\u001b[0m\n\u001b[1;32m      1\u001b[0m \u001b[0;32mimport\u001b[0m \u001b[0mtorch\u001b[0m\u001b[0;34m\u001b[0m\u001b[0;34m\u001b[0m\u001b[0m\n\u001b[1;32m      2\u001b[0m \u001b[0;34m\u001b[0m\u001b[0m\n\u001b[0;32m----> 3\u001b[0;31m \u001b[0mprint\u001b[0m\u001b[0;34m(\u001b[0m\u001b[0mtorch\u001b[0m\u001b[0;34m.\u001b[0m\u001b[0mmean\u001b[0m\u001b[0;34m(\u001b[0m\u001b[0;34m[\u001b[0m\u001b[0;36m1.0\u001b[0m\u001b[0;34m,\u001b[0m \u001b[0;36m3.0\u001b[0m\u001b[0;34m]\u001b[0m\u001b[0;34m)\u001b[0m\u001b[0;34m)\u001b[0m\u001b[0;34m\u001b[0m\u001b[0;34m\u001b[0m\u001b[0m\n\u001b[0m",
            "\u001b[0;31mTypeError\u001b[0m: mean(): argument 'input' (position 1) must be Tensor, not list"
          ]
        }
      ]
    },
    {
      "cell_type": "code",
      "metadata": {
        "id": "tFFGglC-DQsZ"
      },
      "source": [
        "import torch\n",
        "\n",
        "print(\"PyTorch\")\n",
        "print(\"===========\")\n",
        "print(torch.mean(torch.tensor([1.0, 3.0])))\n",
        "print(torch.sum(torch.tensor([1.0, 3.0])))\n",
        "print(torch.exp(torch.tensor([1.0, 3.0])))"
      ],
      "execution_count": null,
      "outputs": []
    },
    {
      "cell_type": "code",
      "metadata": {
        "id": "Hs6UyTpkDX1P"
      },
      "source": [
        "print(\"NumPy\")\n",
        "print(\"===========\")\n",
        "x_np = np.array([1.0,3.0])\n",
        "print(x_np.mean())\n",
        "print(x_np.sum())\n",
        "\n",
        "print(\"\\nPyTorch\")\n",
        "print(\"===========\")\n",
        "x_pt = torch.tensor([1.0,3.0])\n",
        "print(x_pt.mean())\n",
        "print(x_pt.sum())"
      ],
      "execution_count": null,
      "outputs": []
    },
    {
      "cell_type": "code",
      "metadata": {
        "id": "O9FlchuOHoHz"
      },
      "source": [
        "print(\"NumPy\")\n",
        "print(\"===========\")\n",
        "print(np.random.rand(5))\n",
        "\n",
        "print(\"\\nPyTorch\")\n",
        "print(\"===========\")\n",
        "print(torch.rand(5))"
      ],
      "execution_count": null,
      "outputs": []
    },
    {
      "cell_type": "markdown",
      "metadata": {
        "id": "dQYiU-a_W2a8"
      },
      "source": [
        "# Numpy Bridge"
      ]
    },
    {
      "cell_type": "code",
      "metadata": {
        "id": "4fSUyZF05ukz"
      },
      "source": [
        "narr = np.arange(0, 9).reshape(3, 3).astype(np.float)"
      ],
      "execution_count": null,
      "outputs": []
    },
    {
      "cell_type": "code",
      "metadata": {
        "id": "R4bc-b-06FOp"
      },
      "source": [
        "narr"
      ],
      "execution_count": null,
      "outputs": []
    },
    {
      "cell_type": "code",
      "metadata": {
        "id": "hRAGWGkR5v1K"
      },
      "source": [
        "t1 = torch.from_numpy(narr)"
      ],
      "execution_count": null,
      "outputs": []
    },
    {
      "cell_type": "code",
      "metadata": {
        "id": "ZnAGlniP6GNX"
      },
      "source": [
        "t1"
      ],
      "execution_count": null,
      "outputs": []
    },
    {
      "cell_type": "code",
      "metadata": {
        "id": "12cioeAk5v3-"
      },
      "source": [
        "t2 = t1.view(1, 9)"
      ],
      "execution_count": null,
      "outputs": []
    },
    {
      "cell_type": "code",
      "metadata": {
        "id": "QfQUe5df5v7A"
      },
      "source": [
        "t2"
      ],
      "execution_count": null,
      "outputs": []
    },
    {
      "cell_type": "code",
      "metadata": {
        "id": "q3XEHvkg6Iwl"
      },
      "source": [
        "narr *= 2\n",
        "narr"
      ],
      "execution_count": null,
      "outputs": []
    },
    {
      "cell_type": "code",
      "metadata": {
        "id": "HXvf64ln6J0U"
      },
      "source": [
        "t1"
      ],
      "execution_count": null,
      "outputs": []
    },
    {
      "cell_type": "code",
      "metadata": {
        "id": "IAtONq2K6J3O"
      },
      "source": [
        "t2"
      ],
      "execution_count": null,
      "outputs": []
    },
    {
      "cell_type": "code",
      "metadata": {
        "id": "TWsT6FkO6J5h"
      },
      "source": [
        "t1.storage()"
      ],
      "execution_count": null,
      "outputs": []
    },
    {
      "cell_type": "code",
      "metadata": {
        "id": "K5UWsHyY6TtU"
      },
      "source": [
        "t1.storage().data_ptr()"
      ],
      "execution_count": null,
      "outputs": []
    },
    {
      "cell_type": "code",
      "metadata": {
        "id": "-eLTnouU6TwO"
      },
      "source": [
        "t2.storage().data_ptr()"
      ],
      "execution_count": null,
      "outputs": []
    },
    {
      "cell_type": "markdown",
      "metadata": {
        "id": "tRDDgqRcFfVE"
      },
      "source": [
        "If we can do everything in numpy too, then why do we even need PyTorch?\n",
        "\n",
        "- PyTorch can do everything on GPU too. (We will see this in detail towards the end. It is just a one step process)\n",
        "- PyTorch takes care of most of the things required for Deep Learning like back propagation, dataset handling, etc. in the background without much user intervention."
      ]
    },
    {
      "cell_type": "markdown",
      "metadata": {
        "id": "bdRapw6w027m"
      },
      "source": [
        "# How to train a model?\n",
        "\n",
        "Lets train and evaluate a classifier on [CIFAR-10](https://www.cs.toronto.edu/~kriz/cifar.html) dataset. \n",
        "\n",
        "First we will go over the steps very roughly. Don't try to understand every single but try and absorb the overall idea of what we are trying to do. Then a step by step explanation will be provided on what is happening.\n",
        "- Dataset Preparation\n",
        "- Define some Neural Network for training\n",
        "- Training Loop\n",
        "  - Forward Propagation\n",
        "  - Loss\n",
        "  - Backward Propagation\n",
        "  - Train and test accuracy\n",
        "- Save/Load a trained model\n",
        "- How to train on GPU?\n"
      ]
    },
    {
      "cell_type": "markdown",
      "metadata": {
        "id": "PAWu0k5nQCNt"
      },
      "source": [
        "## Rough Overview"
      ]
    },
    {
      "cell_type": "code",
      "metadata": {
        "id": "tO0RqY3CQEBZ"
      },
      "source": [
        "# Imports\n",
        "import torch\n",
        "import torchvision\n",
        "import torchvision.transforms as transforms\n",
        "import torch.nn as nn\n",
        "import torch.nn.functional as F\n",
        "import torch.optim as optim\n",
        "\n",
        "# Dataset Preparation\n",
        "transform = transforms.Compose(\n",
        "    [transforms.ToTensor(),\n",
        "     transforms.Normalize((0.5, 0.5, 0.5), (0.5, 0.5, 0.5))])\n",
        "\n",
        "trainset = torchvision.datasets.CIFAR10(root='./data', train=True,\n",
        "                                        download=True, transform=transform)\n",
        "trainloader = torch.utils.data.DataLoader(trainset, batch_size=4,\n",
        "                                          shuffle=True, num_workers=2)\n",
        "\n",
        "testset = torchvision.datasets.CIFAR10(root='./data', train=False,\n",
        "                                       download=True, transform=transform)\n",
        "testloader = torch.utils.data.DataLoader(testset, batch_size=4,\n",
        "                                         shuffle=False, num_workers=2)\n",
        "\n",
        "# Define some Neural Network for training\n",
        "class Net(nn.Module):\n",
        "    def __init__(self):\n",
        "        super(Net, self).__init__()\n",
        "        self.conv1 = nn.Conv2d(3, 6, 5)\n",
        "        self.pool = nn.MaxPool2d(2, 2)\n",
        "        self.conv2 = nn.Conv2d(6, 16, 5)\n",
        "        self.fc1 = nn.Linear(16 * 5 * 5, 240)\n",
        "        self.fc2 = nn.Linear(240, 32)\n",
        "        self.fc3 = nn.Linear(32, 10)\n",
        "\n",
        "    def forward(self, x):\n",
        "        x = self.pool(F.relu(self.conv1(x)))\n",
        "        x = self.pool(F.relu(self.conv2(x)))\n",
        "        x = x.view(-1, 16 * 5 * 5)\n",
        "        x = F.relu(self.fc1(x))\n",
        "        x = F.relu(self.fc2(x))\n",
        "        x = self.fc3(x)\n",
        "        return x\n",
        "\n",
        "net = Net()\n",
        "\n",
        "criterion = nn.CrossEntropyLoss()\n",
        "optimizer = optim.SGD(net.parameters(), lr=0.001, momentum=0.9)\n",
        "\n",
        "# Training Loop\n",
        "for epoch in range(2):  # loop over the dataset multiple times\n",
        "\n",
        "    running_loss = 0.0\n",
        "    for i, data in enumerate(trainloader, 0):\n",
        "        inputs, labels = data\n",
        "\n",
        "        optimizer.zero_grad()\n",
        "\n",
        "        # Forward Propagation\n",
        "        outputs = net(inputs)\n",
        "\n",
        "        # Loss\n",
        "        loss = criterion(outputs, labels)\n",
        "\n",
        "        # Backward Propagation\n",
        "        loss.backward()\n",
        "        \n",
        "        if i%2000 == 0:\n",
        "          print(f\"[{epoch}, {i}] Loss: {loss.item()}\")\n",
        "        \n",
        "        optimizer.step()\n",
        "\n",
        "print('Finished Training')\n",
        "\n",
        "# Train Accuracy\n",
        "correct = 0\n",
        "total = 0\n",
        "with torch.no_grad():\n",
        "    for data in trainloader:\n",
        "        images, labels = data\n",
        "        outputs = net(images)\n",
        "        _, predicted = torch.max(outputs.data, 1)\n",
        "        total += labels.size(0)\n",
        "        correct += (predicted == labels).sum().item()\n",
        "print(f\"Train Accuracy: {100*(correct/total)}\")\n",
        "\n",
        "# Test Accuracy\n",
        "correct = 0\n",
        "total = 0\n",
        "with torch.no_grad():\n",
        "    for data in testloader:\n",
        "        images, labels = data\n",
        "        outputs = net(images)\n",
        "        _, predicted = torch.max(outputs.data, 1)\n",
        "        total += labels.size(0)\n",
        "        correct += (predicted == labels).sum().item()\n",
        "print(f\"Test Accuracy: {100*(correct/total)}\")\n",
        "\n",
        "torch.save(net, \"trained_model.pt\")\n",
        "print(\"Model saved!\")\n",
        "\n",
        "trained_network = torch.load(\"trained_model.pt\")\n",
        "print(\"Model Loaded!\")"
      ],
      "execution_count": null,
      "outputs": []
    },
    {
      "cell_type": "markdown",
      "metadata": {
        "id": "tcGDpBUzW_n3"
      },
      "source": [
        "That must have taken alot of time to train. So, before we get into the step by step explanation, lets see what to change in the above code to **run everything on GPU**!\n",
        "\n",
        "- Click on **Runtime** -> **Change runtume type** -> **Hardward accelerator** -> **GPU**\n",
        "- Change `net = Net()` to `net = Net().cuda()`\n",
        "- Below `inputs, labels = data` in the training loop add another line `inputs, labels = inputs.cuda(), labels.cuda()`.\n",
        "- Below `images, labels = data` in the train/test accuracy step add another line `inputs, labels = inputs.cuda(), labels.cuda()`.\n"
      ]
    },
    {
      "cell_type": "markdown",
      "metadata": {
        "id": "n3-HYQcIP1o2"
      },
      "source": [
        "## Step by step explanation\n",
        "Now that we have an overall idea of what is happening, lets try to understand everything one step at a time.\n"
      ]
    },
    {
      "cell_type": "markdown",
      "metadata": {
        "id": "dD1MJM3VWPxJ"
      },
      "source": [
        "### Imports"
      ]
    },
    {
      "cell_type": "code",
      "metadata": {
        "id": "bh5au4bJVY0M"
      },
      "source": [
        "import torch\n",
        "import torchvision\n",
        "import torchvision.transforms as transforms\n",
        "import torch.nn as nn\n",
        "import torch.nn.functional as F\n",
        "import torch.optim as optim"
      ],
      "execution_count": null,
      "outputs": []
    },
    {
      "cell_type": "markdown",
      "metadata": {
        "id": "O8bTXDLpWMDh"
      },
      "source": [
        "### Dataset Preparation"
      ]
    },
    {
      "cell_type": "code",
      "metadata": {
        "id": "L_4_AHhkVfcc"
      },
      "source": [
        "transform = transforms.Compose(\n",
        "    [transforms.ToTensor(),\n",
        "     transforms.Normalize((0.5, 0.5, 0.5), (0.5, 0.5, 0.5))])\n",
        "\n",
        "trainset = torchvision.datasets.CIFAR10(root='./data', train=True,\n",
        "                                        download=True, transform=transform)\n",
        "trainloader = torch.utils.data.DataLoader(trainset, batch_size=4,\n",
        "                                          shuffle=True, num_workers=2)\n",
        "\n",
        "testset = torchvision.datasets.CIFAR10(root='./data', train=False,\n",
        "                                       download=True, transform=transform)\n",
        "testloader = torch.utils.data.DataLoader(testset, batch_size=4,\n",
        "                                         shuffle=False, num_workers=2)"
      ],
      "execution_count": null,
      "outputs": []
    },
    {
      "cell_type": "markdown",
      "metadata": {
        "id": "XCC0zo6pWU1g"
      },
      "source": [
        "### Define some Neural Network for training"
      ]
    },
    {
      "cell_type": "code",
      "metadata": {
        "id": "Jjv7batXVkXH"
      },
      "source": [
        "class Net(nn.Module):\n",
        "    def __init__(self):\n",
        "        super(Net, self).__init__()\n",
        "        self.conv1 = nn.Conv2d(3, 6, 5)\n",
        "        self.pool = nn.MaxPool2d(2, 2)\n",
        "        self.conv2 = nn.Conv2d(6, 16, 5)\n",
        "        self.fc1 = nn.Linear(16 * 5 * 5, 120)\n",
        "        self.fc2 = nn.Linear(120, 84)\n",
        "        self.fc3 = nn.Linear(84, 10)\n",
        "\n",
        "    def forward(self, x):\n",
        "        x = self.pool(F.relu(self.conv1(x)))\n",
        "        x = self.pool(F.relu(self.conv2(x)))\n",
        "        x = x.view(-1, 16 * 5 * 5)\n",
        "        x = F.relu(self.fc1(x))\n",
        "        x = F.relu(self.fc2(x))\n",
        "        x = self.fc3(x)\n",
        "        return x\n",
        "\n",
        "net = Net().cuda()"
      ],
      "execution_count": null,
      "outputs": []
    },
    {
      "cell_type": "code",
      "metadata": {
        "id": "S1jMuovrVsvs"
      },
      "source": [
        "criterion = nn.CrossEntropyLoss()\n",
        "optimizer = optim.SGD(net.parameters(), lr=0.001, momentum=0.9)"
      ],
      "execution_count": null,
      "outputs": []
    },
    {
      "cell_type": "markdown",
      "metadata": {
        "id": "w-wIaVoGWYQj"
      },
      "source": [
        "### Training Loop"
      ]
    },
    {
      "cell_type": "code",
      "metadata": {
        "id": "liAYY5SRVwSJ"
      },
      "source": [
        "for epoch in range(2):  # loop over the dataset multiple times\n",
        "    running_loss = 0.0\n",
        "    for i, data in enumerate(trainloader, 0): # loop over the mini-batches of data \n",
        "        inputs, labels = data\n",
        "        inputs, labels = inputs.cuda(), labels.cuda()\n",
        "\n",
        "        optimizer.zero_grad()\n",
        "\n",
        "        # Forward Propagation\n",
        "        outputs = net(inputs)\n",
        "\n",
        "        # Loss\n",
        "        loss = criterion(outputs, labels)\n",
        "\n",
        "        # Backward Propagation\n",
        "        loss.backward()\n",
        "        if i%2000 == 0:\n",
        "          print(f\"[{epoch}, {i}] Loss: {loss.item()}\")\n",
        "        \n",
        "        optimizer.step()\n",
        "\n",
        "print('Finished Training')"
      ],
      "execution_count": null,
      "outputs": []
    },
    {
      "cell_type": "markdown",
      "metadata": {
        "id": "hKrD9a8wWcQO"
      },
      "source": [
        "### Train/Test Accuracy"
      ]
    },
    {
      "cell_type": "code",
      "metadata": {
        "id": "wTNqNw4-V02y"
      },
      "source": [
        "# Train Accuracy\n",
        "correct = 0\n",
        "total = 0\n",
        "with torch.no_grad():\n",
        "    for data in trainloader:\n",
        "        images, labels = data\n",
        "        images, labels = images.cuda(), labels.cuda()\n",
        "        outputs = net(images)\n",
        "        _, predicted = torch.max(outputs.data, 1)\n",
        "        total += labels.size(0)\n",
        "        correct += (predicted == labels).sum().item()\n",
        "print(f\"Train Accuracy: {100*(correct/total)}\")\n",
        "\n",
        "# Test Accuracy\n",
        "correct = 0\n",
        "total = 0\n",
        "with torch.no_grad():\n",
        "    for data in testloader:\n",
        "        images, labels = data\n",
        "        images, labels = images.cuda(), labels.cuda()\n",
        "        outputs = net(images)\n",
        "        _, predicted = torch.max(outputs.data, 1)\n",
        "        total += labels.size(0)\n",
        "        correct += (predicted == labels).sum().item()\n",
        "print(f\"Test Accuracy: {100*(correct/total)}\")"
      ],
      "execution_count": null,
      "outputs": []
    },
    {
      "cell_type": "markdown",
      "metadata": {
        "id": "cECUyI-NWhSg"
      },
      "source": [
        "### Save/Load a trained model"
      ]
    },
    {
      "cell_type": "code",
      "metadata": {
        "id": "iD_5PfukV5Jm"
      },
      "source": [
        "torch.save(net, \"trained_model.pt\")\n",
        "print(\"Model saved!\")\n",
        "\n",
        "trained_network = torch.load(\"trained_model.pt\")\n",
        "print(\"Model Loaded!\")"
      ],
      "execution_count": null,
      "outputs": []
    },
    {
      "cell_type": "markdown",
      "metadata": {
        "id": "Eq6UHLIr1W2v"
      },
      "source": [
        "# Things to keep in mind\n",
        "- Boiler Plate Code - https://github.com/victoresque/pytorch-template\n",
        "- PyTorch Community - https://discuss.pytorch.org/\n",
        "- Reproducibility Challenge - https://paperswithcode.com/rc2020\n",
        "- Nice article: [A Recipe for Training Neural Networks by Andrej Karpathy](http://karpathy.github.io/2019/04/25/recipe/)\n",
        "\n"
      ]
    }
  ]
}